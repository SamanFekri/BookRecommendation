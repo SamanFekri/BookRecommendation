{
  "nbformat": 4,
  "nbformat_minor": 0,
  "metadata": {
    "colab": {
      "name": "my_linear_hybrid_itemBased.ipynb",
      "provenance": []
    },
    "kernelspec": {
      "name": "python3",
      "display_name": "Python 3"
    }
  },
  "cells": [
    {
      "cell_type": "markdown",
      "metadata": {
        "id": "AdNNZZ9yMYmD"
      },
      "source": [
        "# Access Derive"
      ]
    },
    {
      "cell_type": "code",
      "metadata": {
        "colab": {
          "base_uri": "https://localhost:8080/"
        },
        "id": "dhlo1GAjH06l",
        "outputId": "4f10dab0-0a1e-44fe-d9e7-7fbf4e0b9d84"
      },
      "source": [
        "from google.colab import drive\r\n",
        "drive.mount('/content/drive')"
      ],
      "execution_count": 29,
      "outputs": [
        {
          "output_type": "stream",
          "text": [
            "Drive already mounted at /content/drive; to attempt to forcibly remount, call drive.mount(\"/content/drive\", force_remount=True).\n"
          ],
          "name": "stdout"
        }
      ]
    },
    {
      "cell_type": "code",
      "metadata": {
        "execution": {
          "iopub.execute_input": "2020-11-19T21:51:49.872833Z",
          "iopub.status.busy": "2020-11-19T21:51:49.872115Z",
          "iopub.status.idle": "2020-11-19T21:51:49.876646Z",
          "shell.execute_reply": "2020-11-19T21:51:49.876014Z"
        },
        "papermill": {
          "duration": 0.038539,
          "end_time": "2020-11-19T21:51:49.876769",
          "exception": false,
          "start_time": "2020-11-19T21:51:49.838230",
          "status": "completed"
        },
        "tags": [],
        "colab": {
          "base_uri": "https://localhost:8080/"
        },
        "id": "pkBiUaNB_dPY",
        "outputId": "6f642158-9a5e-4b85-c027-58b190fbba13"
      },
      "source": [
        "cd '/content/drive/MyDrive/Colab Notebooks'\r\n"
      ],
      "execution_count": 30,
      "outputs": [
        {
          "output_type": "stream",
          "text": [
            "/content/drive/MyDrive/Colab Notebooks\n"
          ],
          "name": "stdout"
        }
      ]
    },
    {
      "cell_type": "markdown",
      "metadata": {
        "id": "wf6pfUmFMgmv"
      },
      "source": [
        "# Read Data"
      ]
    },
    {
      "cell_type": "code",
      "metadata": {
        "id": "srZlD0A7Ig_V"
      },
      "source": [
        "import numpy as np # linear algebra\r\n",
        "import pandas as pd # data processing, CSV file I/O (e.g. pd.read_csv)\r\n",
        "import matplotlib.pyplot as pyplot\r\n",
        "import os"
      ],
      "execution_count": 31,
      "outputs": []
    },
    {
      "cell_type": "code",
      "metadata": {
        "id": "q-MzX9jSJV52"
      },
      "source": [
        "URM_train=pd.read_csv('input/data_train.csv')\r\n",
        "R_test=pd.read_csv('input/data_target_users_test.csv')\r\n"
      ],
      "execution_count": 85,
      "outputs": []
    },
    {
      "cell_type": "code",
      "metadata": {
        "execution": {
          "iopub.execute_input": "2020-11-19T21:51:50.003346Z",
          "iopub.status.busy": "2020-11-19T21:51:50.002660Z",
          "iopub.status.idle": "2020-11-19T21:51:50.056809Z",
          "shell.execute_reply": "2020-11-19T21:51:50.056094Z"
        },
        "papermill": {
          "duration": 0.090652,
          "end_time": "2020-11-19T21:51:50.056935",
          "exception": false,
          "start_time": "2020-11-19T21:51:49.966283",
          "status": "completed"
        },
        "tags": [],
        "id": "6IDr-4k-_dPa"
      },
      "source": [
        "URM=pd.read_csv('input/data_train.csv')\n",
        "URM_tuples = [tuple(x) for x in URM.to_numpy()]\n"
      ],
      "execution_count": 86,
      "outputs": []
    },
    {
      "cell_type": "code",
      "metadata": {
        "_cell_guid": "79c7e3d0-c299-4dcb-8224-4455121ee9b0",
        "_uuid": "d629ff2d2480ee46fbb7e2d37f6b5fab8052498a",
        "execution": {
          "iopub.execute_input": "2020-11-19T21:51:50.121957Z",
          "iopub.status.busy": "2020-11-19T21:51:50.121243Z",
          "iopub.status.idle": "2020-11-19T21:51:50.349090Z",
          "shell.execute_reply": "2020-11-19T21:51:50.348469Z"
        },
        "papermill": {
          "duration": 0.26266,
          "end_time": "2020-11-19T21:51:50.349208",
          "exception": false,
          "start_time": "2020-11-19T21:51:50.086548",
          "status": "completed"
        },
        "tags": [],
        "id": "iMHS4nSF_dPb"
      },
      "source": [
        "\n",
        "URM_tuples = [tuple(x) for x in URM_train.to_numpy()]\n"
      ],
      "execution_count": 87,
      "outputs": []
    },
    {
      "cell_type": "code",
      "metadata": {
        "execution": {
          "iopub.execute_input": "2020-11-19T21:51:50.565428Z",
          "iopub.status.busy": "2020-11-19T21:51:50.564628Z",
          "iopub.status.idle": "2020-11-19T21:51:50.570729Z",
          "shell.execute_reply": "2020-11-19T21:51:50.569775Z"
        },
        "papermill": {
          "duration": 0.192062,
          "end_time": "2020-11-19T21:51:50.570892",
          "exception": false,
          "start_time": "2020-11-19T21:51:50.378830",
          "status": "completed"
        },
        "tags": [],
        "id": "Ybh3CFR1_dPc"
      },
      "source": [
        "userList, itemList, ratingList = zip(*URM_tuples)\n",
        "\n",
        "userList = list(userList)\n",
        "userList=np.array(userList,dtype=np.int64)\n",
        "itemList = list(itemList)\n",
        "itemList=np.array(itemList,dtype=np.int64)\n",
        "\n",
        "ratingList = list(ratingList)                        #not needed\n",
        "ratingList=np.array(ratingList,dtype=np.int64)       #not needed\n",
        "\n",
        "\n",
        "\n"
      ],
      "execution_count": 88,
      "outputs": []
    },
    {
      "cell_type": "code",
      "metadata": {
        "execution": {
          "iopub.execute_input": "2020-11-19T21:51:50.648214Z",
          "iopub.status.busy": "2020-11-19T21:51:50.647195Z",
          "iopub.status.idle": "2020-11-19T21:51:50.653506Z",
          "shell.execute_reply": "2020-11-19T21:51:50.652962Z"
        },
        "papermill": {
          "duration": 0.040663,
          "end_time": "2020-11-19T21:51:50.653636",
          "exception": false,
          "start_time": "2020-11-19T21:51:50.612973",
          "status": "completed"
        },
        "tags": [],
        "colab": {
          "base_uri": "https://localhost:8080/"
        },
        "id": "-hHObhy5_dPc",
        "outputId": "075b8923-900c-4b8a-ba55-d7bf28522abd"
      },
      "source": [
        "len(ratingList)-np.count_nonzero(ratingList)"
      ],
      "execution_count": 89,
      "outputs": [
        {
          "output_type": "execute_result",
          "data": {
            "text/plain": [
              "0"
            ]
          },
          "metadata": {
            "tags": []
          },
          "execution_count": 89
        }
      ]
    },
    {
      "cell_type": "code",
      "metadata": {
        "execution": {
          "iopub.execute_input": "2020-11-19T21:51:50.723488Z",
          "iopub.status.busy": "2020-11-19T21:51:50.722655Z",
          "iopub.status.idle": "2020-11-19T21:51:50.727498Z",
          "shell.execute_reply": "2020-11-19T21:51:50.726875Z"
        },
        "papermill": {
          "duration": 0.044418,
          "end_time": "2020-11-19T21:51:50.727642",
          "exception": false,
          "start_time": "2020-11-19T21:51:50.683224",
          "status": "completed"
        },
        "tags": [],
        "colab": {
          "base_uri": "https://localhost:8080/"
        },
        "id": "ssWyFSH7_dPd",
        "outputId": "f0e65170-21b0-4e44-fca2-d793446fbde3"
      },
      "source": [
        "itemList"
      ],
      "execution_count": 90,
      "outputs": [
        {
          "output_type": "execute_result",
          "data": {
            "text/plain": [
              "array([10080, 19467,  2665, ..., 21384,  8699, 19178])"
            ]
          },
          "metadata": {
            "tags": []
          },
          "execution_count": 90
        }
      ]
    },
    {
      "cell_type": "code",
      "metadata": {
        "execution": {
          "iopub.execute_input": "2020-11-19T21:51:50.830408Z",
          "iopub.status.busy": "2020-11-19T21:51:50.829368Z",
          "iopub.status.idle": "2020-11-19T21:51:50.833735Z",
          "shell.execute_reply": "2020-11-19T21:51:50.833015Z"
        },
        "papermill": {
          "duration": 0.076202,
          "end_time": "2020-11-19T21:51:50.833850",
          "exception": false,
          "start_time": "2020-11-19T21:51:50.757648",
          "status": "completed"
        },
        "tags": [],
        "colab": {
          "base_uri": "https://localhost:8080/"
        },
        "id": "QshAFUfz_dPe",
        "outputId": "df9ef145-0664-40a1-fb8b-c9bfb32b2191"
      },
      "source": [
        "userList_unique = list(set(userList))\n",
        "itemList_unique = list(set(itemList))\n",
        "\n",
        "numUsers = len(userList_unique)\n",
        "numItems = len(itemList_unique)\n",
        "\n",
        "numberInteractions= len(URM_tuples)\n",
        "print (\"Number of items\\t {}, Number of users\\t {}\".format(numItems, numUsers))\n",
        "print(\"Number of Intraction \\t {}\" .format(numberInteractions))\n",
        "print (\"Max ID items\\t {}, Max Id users\\t {}\\n\".format(max(itemList_unique), max(userList_unique)))\n",
        "print (\"Average interactions per user {:.2f}\".format(numberInteractions/numUsers))\n",
        "print (\"Average interactions per item {:.2f}\\n\".format(numberInteractions/numItems))\n",
        "\n",
        "print (\"Sparsity {:.2f} %\".format((1-float(numberInteractions)/(numItems*numUsers))*100))"
      ],
      "execution_count": 91,
      "outputs": [
        {
          "output_type": "stream",
          "text": [
            "Number of items\t 24896, Number of users\t 7947\n",
            "Number of Intraction \t 113268\n",
            "Max ID items\t 25974, Max Id users\t 7946\n",
            "\n",
            "Average interactions per user 14.25\n",
            "Average interactions per item 4.55\n",
            "\n",
            "Sparsity 99.94 %\n"
          ],
          "name": "stdout"
        }
      ]
    },
    {
      "cell_type": "markdown",
      "metadata": {
        "papermill": {
          "duration": 0.03014,
          "end_time": "2020-11-19T21:51:50.894432",
          "exception": false,
          "start_time": "2020-11-19T21:51:50.864292",
          "status": "completed"
        },
        "tags": [],
        "id": "B34PlwYf_dPe"
      },
      "source": [
        "To store the data we use a sparse matrix. We build it as a COO matrix and then change its format\n",
        "The COO constructor expects (data, (row, column))"
      ]
    },
    {
      "cell_type": "code",
      "metadata": {
        "execution": {
          "iopub.execute_input": "2020-11-19T21:51:50.960809Z",
          "iopub.status.busy": "2020-11-19T21:51:50.960029Z",
          "iopub.status.idle": "2020-11-19T21:51:51.084634Z",
          "shell.execute_reply": "2020-11-19T21:51:51.083965Z"
        },
        "papermill": {
          "duration": 0.159898,
          "end_time": "2020-11-19T21:51:51.084754",
          "exception": false,
          "start_time": "2020-11-19T21:51:50.924856",
          "status": "completed"
        },
        "tags": [],
        "colab": {
          "base_uri": "https://localhost:8080/"
        },
        "id": "NZrlVnVB_dPf",
        "outputId": "830de456-ad53-46f9-f1ed-3fca1f361aa6"
      },
      "source": [
        "\n",
        "import scipy.sparse as sps\n",
        "\n",
        "URM_all = sps.coo_matrix((ratingList, (userList, itemList)))\n",
        "\n",
        "URM_all"
      ],
      "execution_count": 92,
      "outputs": [
        {
          "output_type": "execute_result",
          "data": {
            "text/plain": [
              "<7947x25975 sparse matrix of type '<class 'numpy.int64'>'\n",
              "\twith 113268 stored elements in COOrdinate format>"
            ]
          },
          "metadata": {
            "tags": []
          },
          "execution_count": 92
        }
      ]
    },
    {
      "cell_type": "code",
      "metadata": {
        "execution": {
          "iopub.execute_input": "2020-11-19T21:51:51.151128Z",
          "iopub.status.busy": "2020-11-19T21:51:51.150410Z",
          "iopub.status.idle": "2020-11-19T21:51:51.156411Z",
          "shell.execute_reply": "2020-11-19T21:51:51.155871Z"
        },
        "papermill": {
          "duration": 0.040864,
          "end_time": "2020-11-19T21:51:51.156549",
          "exception": false,
          "start_time": "2020-11-19T21:51:51.115685",
          "status": "completed"
        },
        "tags": [],
        "colab": {
          "base_uri": "https://localhost:8080/"
        },
        "id": "1DoGlJg5_dPg",
        "outputId": "96170059-a6b8-4e55-94f8-bb6efbdadd76"
      },
      "source": [
        "URM_all.tocsr()"
      ],
      "execution_count": 93,
      "outputs": [
        {
          "output_type": "execute_result",
          "data": {
            "text/plain": [
              "<7947x25975 sparse matrix of type '<class 'numpy.longlong'>'\n",
              "\twith 113268 stored elements in Compressed Sparse Row format>"
            ]
          },
          "metadata": {
            "tags": []
          },
          "execution_count": 93
        }
      ]
    },
    {
      "cell_type": "markdown",
      "metadata": {
        "papermill": {
          "duration": 0.030591,
          "end_time": "2020-11-19T21:51:51.218475",
          "exception": false,
          "start_time": "2020-11-19T21:51:51.187884",
          "status": "completed"
        },
        "tags": [],
        "id": "r306G-yf_dPh"
      },
      "source": [
        "** Item popularity\n",
        "**"
      ]
    },
    {
      "cell_type": "code",
      "metadata": {
        "execution": {
          "iopub.execute_input": "2020-11-19T21:51:51.285555Z",
          "iopub.status.busy": "2020-11-19T21:51:51.284896Z",
          "iopub.status.idle": "2020-11-19T21:51:51.296964Z",
          "shell.execute_reply": "2020-11-19T21:51:51.297398Z"
        },
        "papermill": {
          "duration": 0.048209,
          "end_time": "2020-11-19T21:51:51.297593",
          "exception": false,
          "start_time": "2020-11-19T21:51:51.249384",
          "status": "completed"
        },
        "tags": [],
        "colab": {
          "base_uri": "https://localhost:8080/"
        },
        "id": "Dlrbtalb_dPh",
        "outputId": "89160740-0f10-4bed-effc-89432c483c07"
      },
      "source": [
        "import numpy as np\n",
        "\n",
        "itemPopularity = (URM_all>0).sum(axis=0)\n",
        "itemPopularity"
      ],
      "execution_count": 94,
      "outputs": [
        {
          "output_type": "execute_result",
          "data": {
            "text/plain": [
              "matrix([[2, 3, 5, ..., 1, 1, 2]], dtype=int64)"
            ]
          },
          "metadata": {
            "tags": []
          },
          "execution_count": 94
        }
      ]
    },
    {
      "cell_type": "code",
      "metadata": {
        "execution": {
          "iopub.execute_input": "2020-11-19T21:51:51.367145Z",
          "iopub.status.busy": "2020-11-19T21:51:51.366138Z",
          "iopub.status.idle": "2020-11-19T21:51:51.369869Z",
          "shell.execute_reply": "2020-11-19T21:51:51.370305Z"
        },
        "papermill": {
          "duration": 0.041532,
          "end_time": "2020-11-19T21:51:51.370446",
          "exception": false,
          "start_time": "2020-11-19T21:51:51.328914",
          "status": "completed"
        },
        "tags": [],
        "colab": {
          "base_uri": "https://localhost:8080/"
        },
        "id": "FgrBEzuO_dPi",
        "outputId": "5e840957-0327-4690-f3a4-5d85b590a8fa"
      },
      "source": [
        "itemPopularity = np.array(itemPopularity).squeeze()\n",
        "itemPopularity"
      ],
      "execution_count": 95,
      "outputs": [
        {
          "output_type": "execute_result",
          "data": {
            "text/plain": [
              "array([2, 3, 5, ..., 1, 1, 2], dtype=int64)"
            ]
          },
          "metadata": {
            "tags": []
          },
          "execution_count": 95
        }
      ]
    },
    {
      "cell_type": "code",
      "metadata": {
        "execution": {
          "iopub.execute_input": "2020-11-19T21:51:51.439400Z",
          "iopub.status.busy": "2020-11-19T21:51:51.438745Z",
          "iopub.status.idle": "2020-11-19T21:51:51.443951Z",
          "shell.execute_reply": "2020-11-19T21:51:51.444406Z"
        },
        "papermill": {
          "duration": 0.041821,
          "end_time": "2020-11-19T21:51:51.444577",
          "exception": false,
          "start_time": "2020-11-19T21:51:51.402756",
          "status": "completed"
        },
        "tags": [],
        "colab": {
          "base_uri": "https://localhost:8080/"
        },
        "id": "hyjiX9GE_dPi",
        "outputId": "fb951ad4-8941-4d67-87c9-92d29c53aa4e"
      },
      "source": [
        "itemPopularity = np.sort(itemPopularity)\n",
        "itemPopularity"
      ],
      "execution_count": 96,
      "outputs": [
        {
          "output_type": "execute_result",
          "data": {
            "text/plain": [
              "array([  0,   0,   0, ..., 219, 234, 393], dtype=int64)"
            ]
          },
          "metadata": {
            "tags": []
          },
          "execution_count": 96
        }
      ]
    },
    {
      "cell_type": "markdown",
      "metadata": {
        "id": "d5BuTJnyMt2M"
      },
      "source": [
        "# Split data for test and train"
      ]
    },
    {
      "cell_type": "code",
      "metadata": {
        "execution": {
          "iopub.execute_input": "2020-11-19T21:51:52.903730Z",
          "iopub.status.busy": "2020-11-19T21:51:52.902626Z",
          "iopub.status.idle": "2020-11-19T21:51:52.912488Z",
          "shell.execute_reply": "2020-11-19T21:51:52.911938Z"
        },
        "papermill": {
          "duration": 0.050911,
          "end_time": "2020-11-19T21:51:52.912618",
          "exception": false,
          "start_time": "2020-11-19T21:51:52.861707",
          "status": "completed"
        },
        "tags": [],
        "colab": {
          "base_uri": "https://localhost:8080/"
        },
        "id": "ay6YCGr1_dPn",
        "outputId": "8ff71e70-7d49-49d3-bc16-9e14257aba96"
      },
      "source": [
        "train_test_split = 0.999\n",
        "\n",
        "numInteractions = URM_all.nnz\n",
        "\n",
        "\n",
        "train_mask = np.random.choice([True,False], numInteractions, p=[train_test_split, 1-train_test_split])\n",
        "train_mask"
      ],
      "execution_count": 132,
      "outputs": [
        {
          "output_type": "execute_result",
          "data": {
            "text/plain": [
              "array([ True,  True,  True, ...,  True,  True,  True])"
            ]
          },
          "metadata": {
            "tags": []
          },
          "execution_count": 132
        }
      ]
    },
    {
      "cell_type": "code",
      "metadata": {
        "execution": {
          "iopub.execute_input": "2020-11-19T21:51:52.992263Z",
          "iopub.status.busy": "2020-11-19T21:51:52.991554Z",
          "iopub.status.idle": "2020-11-19T21:51:53.003213Z",
          "shell.execute_reply": "2020-11-19T21:51:53.002658Z"
        },
        "papermill": {
          "duration": 0.053944,
          "end_time": "2020-11-19T21:51:53.003326",
          "exception": false,
          "start_time": "2020-11-19T21:51:52.949382",
          "status": "completed"
        },
        "tags": [],
        "colab": {
          "base_uri": "https://localhost:8080/"
        },
        "id": "2Cdwkmx4_dPo",
        "outputId": "65203f7d-e878-404d-b95f-37108e6420c1"
      },
      "source": [
        "userList = np.array(userList)\n",
        "itemList = np.array(itemList)\n",
        "ratingList = np.array(ratingList)\n",
        "\n",
        "\n",
        "URM_train = sps.coo_matrix((ratingList[train_mask], (userList[train_mask], itemList[train_mask])))   #changed variable specification\n",
        "URM_train = URM_train.tocsr()\n",
        "URM_train"
      ],
      "execution_count": 133,
      "outputs": [
        {
          "output_type": "execute_result",
          "data": {
            "text/plain": [
              "<7947x25975 sparse matrix of type '<class 'numpy.longlong'>'\n",
              "\twith 113138 stored elements in Compressed Sparse Row format>"
            ]
          },
          "metadata": {
            "tags": []
          },
          "execution_count": 133
        }
      ]
    },
    {
      "cell_type": "code",
      "metadata": {
        "execution": {
          "iopub.execute_input": "2020-11-19T21:51:53.080785Z",
          "iopub.status.busy": "2020-11-19T21:51:53.080111Z",
          "iopub.status.idle": "2020-11-19T21:51:53.088370Z",
          "shell.execute_reply": "2020-11-19T21:51:53.087813Z"
        },
        "papermill": {
          "duration": 0.048966,
          "end_time": "2020-11-19T21:51:53.088533",
          "exception": false,
          "start_time": "2020-11-19T21:51:53.039567",
          "status": "completed"
        },
        "tags": [],
        "colab": {
          "base_uri": "https://localhost:8080/"
        },
        "id": "vT0xJiqN_dPo",
        "outputId": "a7d8dacd-a783-4144-df1c-8a0a525e0577"
      },
      "source": [
        "test_mask = np.logical_not(train_mask)\n",
        "\n",
        "URM_test = sps.coo_matrix((ratingList[test_mask], (userList[test_mask], itemList[test_mask])))\n",
        "URM_test = URM_test.tocsr()\n",
        "URM_test"
      ],
      "execution_count": 135,
      "outputs": [
        {
          "output_type": "execute_result",
          "data": {
            "text/plain": [
              "<7900x25819 sparse matrix of type '<class 'numpy.longlong'>'\n",
              "\twith 130 stored elements in Compressed Sparse Row format>"
            ]
          },
          "metadata": {
            "tags": []
          },
          "execution_count": 135
        }
      ]
    },
    {
      "cell_type": "markdown",
      "metadata": {
        "id": "vVzCxqRbM1sK"
      },
      "source": [
        "# Evaluation Metrics"
      ]
    },
    {
      "cell_type": "code",
      "metadata": {
        "execution": {
          "iopub.execute_input": "2020-11-19T21:51:53.240571Z",
          "iopub.status.busy": "2020-11-19T21:51:53.239550Z",
          "iopub.status.idle": "2020-11-19T21:51:53.243930Z",
          "shell.execute_reply": "2020-11-19T21:51:53.243379Z"
        },
        "papermill": {
          "duration": 0.045334,
          "end_time": "2020-11-19T21:51:53.244082",
          "exception": false,
          "start_time": "2020-11-19T21:51:53.198748",
          "status": "completed"
        },
        "tags": [],
        "colab": {
          "base_uri": "https://localhost:8080/"
        },
        "id": "sYSI95PN_dPq",
        "outputId": "1755d76d-e7f4-4f00-dfbf-0c2f641cfa67"
      },
      "source": [
        "user_id = userList_unique[1]\n",
        "user_id"
      ],
      "execution_count": 136,
      "outputs": [
        {
          "output_type": "execute_result",
          "data": {
            "text/plain": [
              "1"
            ]
          },
          "metadata": {
            "tags": []
          },
          "execution_count": 136
        }
      ]
    },
    {
      "cell_type": "code",
      "metadata": {
        "id": "RfeSx8coLr4i"
      },
      "source": [
        " from Base.Evaluation import Evaluator"
      ],
      "execution_count": 137,
      "outputs": []
    },
    {
      "cell_type": "code",
      "metadata": {
        "id": "lhb3UCY6_dPv"
      },
      "source": [
        "#from Data_manager.Movielens.Movielens10MReader import Movielens10MReader\n",
        "from Base.Evaluation.Evaluator import EvaluatorHoldout\n",
        "from Data_manager.split_functions.split_train_validation_random_holdout import split_train_in_two_percentage_global_sample"
      ],
      "execution_count": 138,
      "outputs": []
    },
    {
      "cell_type": "code",
      "metadata": {
        "colab": {
          "base_uri": "https://localhost:8080/"
        },
        "id": "x-3HdlTF_dPv",
        "outputId": "bbd65d64-fcf8-4216-ea74-fd7b83f9fd6a"
      },
      "source": [
        "#dataReader = Movielens10MReader()\n",
        "#dataset = dataReader.load_data()\n",
        "\n",
        "#URM_all = dataset.get_URM_all()\n",
        "\n",
        "URM_train, URM_test = split_train_in_two_percentage_global_sample(URM_all, train_percentage = 0.999)\n",
        "URM_train, URM_validation = split_train_in_two_percentage_global_sample(URM_train, train_percentage = 0.999)\n",
        "\n",
        "evaluator_validation = EvaluatorHoldout(URM_validation, cutoff_list=[10])\n",
        "evaluator_test = EvaluatorHoldout(URM_test, cutoff_list=[10])"
      ],
      "execution_count": 139,
      "outputs": [
        {
          "output_type": "stream",
          "text": [
            "Warning: 7840 (98.65 %) of 7947 users have no sampled items\n",
            "Warning: 7845 (98.72 %) of 7947 users have no sampled items\n"
          ],
          "name": "stdout"
        }
      ]
    },
    {
      "cell_type": "markdown",
      "metadata": {
        "id": "9N6xxIUtNMq1"
      },
      "source": [
        "# Run on Train and Test"
      ]
    },
    {
      "cell_type": "code",
      "metadata": {
        "id": "soxuhO-wNgqu"
      },
      "source": [
        "from Base.Similarity.Compute_Similarity_Python import Compute_Similarity_Python\r\n",
        "#from KNN import *\r\n",
        "from KNN import ItemKNNCFRecommender as ICF"
      ],
      "execution_count": 140,
      "outputs": []
    },
    {
      "cell_type": "code",
      "metadata": {
        "colab": {
          "base_uri": "https://localhost:8080/"
        },
        "id": "eHHKR1bEThVa",
        "outputId": "97417541-345c-4aa6-e33c-ae74ca616287"
      },
      "source": [
        "best_parameters = {'topK': 10, 'shrink': 10, 'similarity': 'cosine', 'normalize': True}\r\n",
        "\r\n",
        "itemKNNCF = ICF.ItemKNNCFRecommender(URM_train)\r\n",
        "itemKNNCF.fit(**best_parameters)"
      ],
      "execution_count": 141,
      "outputs": [
        {
          "output_type": "stream",
          "text": [
            "ItemKNNCFRecommender: URM Detected 1089 (4.19 %) cold items.\n",
            "Unable to load Cython Compute_Similarity, reverting to Python\n",
            "Similarity column 25975 ( 100 % ), 2135.21 column/sec, elapsed time 0.20 min\n"
          ],
          "name": "stdout"
        }
      ]
    },
    {
      "cell_type": "code",
      "metadata": {
        "colab": {
          "base_uri": "https://localhost:8080/"
        },
        "id": "PwNppcVmWKz5",
        "outputId": "08bb5841-9789-442c-e2e7-9ff071f87247"
      },
      "source": [
        "from GraphBased.P3alphaRecommender import P3alphaRecommender\r\n",
        "\r\n",
        "P3alpha = P3alphaRecommender(URM_train)\r\n",
        "P3alpha.fit()"
      ],
      "execution_count": 142,
      "outputs": [
        {
          "output_type": "stream",
          "text": [
            "P3alphaRecommender: URM Detected 1089 (4.19 %) cold items.\n"
          ],
          "name": "stdout"
        }
      ]
    },
    {
      "cell_type": "code",
      "metadata": {
        "colab": {
          "base_uri": "https://localhost:8080/"
        },
        "id": "yd3OUhMvMzqa",
        "outputId": "822f3026-6757-4c1e-98b1-325ca644e2ae"
      },
      "source": [
        "itemKNNCF.W_sparse"
      ],
      "execution_count": 143,
      "outputs": [
        {
          "output_type": "execute_result",
          "data": {
            "text/plain": [
              "<25975x25975 sparse matrix of type '<class 'numpy.float32'>'\n",
              "\twith 240538 stored elements in Compressed Sparse Row format>"
            ]
          },
          "metadata": {
            "tags": []
          },
          "execution_count": 143
        }
      ]
    },
    {
      "cell_type": "code",
      "metadata": {
        "colab": {
          "base_uri": "https://localhost:8080/"
        },
        "id": "mLHDqkgsM9H_",
        "outputId": "f45ee481-244a-4ee5-907f-15f50413c67a"
      },
      "source": [
        "\r\n",
        "P3alpha.W_sparse"
      ],
      "execution_count": 144,
      "outputs": [
        {
          "output_type": "execute_result",
          "data": {
            "text/plain": [
              "<25975x25975 sparse matrix of type '<class 'numpy.float32'>'\n",
              "\twith 1285285 stored elements in Compressed Sparse Row format>"
            ]
          },
          "metadata": {
            "tags": []
          },
          "execution_count": 144
        }
      ]
    },
    {
      "cell_type": "code",
      "metadata": {
        "id": "nw2u5uySWeqg"
      },
      "source": [
        "from KNN import ItemKNNSimilarityHybridRecommender as Hyb"
      ],
      "execution_count": 145,
      "outputs": []
    },
    {
      "cell_type": "code",
      "metadata": {
        "colab": {
          "base_uri": "https://localhost:8080/"
        },
        "id": "TOtO4qCsWn5J",
        "outputId": "7f05485e-3b74-43fe-d8f8-0179907691c7"
      },
      "source": [
        "hybridrecommender = Hyb.ItemKNNSimilarityHybridRecommender(URM_train, itemKNNCF.W_sparse, P3alpha.W_sparse)"
      ],
      "execution_count": 146,
      "outputs": [
        {
          "output_type": "stream",
          "text": [
            "ItemKNNSimilarityHybridRecommender: URM Detected 1089 (4.19 %) cold items.\n"
          ],
          "name": "stdout"
        }
      ]
    },
    {
      "cell_type": "code",
      "metadata": {
        "colab": {
          "base_uri": "https://localhost:8080/"
        },
        "id": "DCHZs522XRhE",
        "outputId": "8d33f5cb-f123-4518-967b-7dd769551114"
      },
      "source": [
        "for i in range(60, 150, 10):\r\n",
        "    hybridrecommender.fit(topK = i,  alpha = 0.36) #k = 90\r\n",
        "    temp =  evaluator_validation.evaluateRecommender(hybridrecommender)\r\n",
        "    print(\"i = \" + str(i) + \"   map = \" + str(temp[0][10]['MAP']))"
      ],
      "execution_count": 147,
      "outputs": [
        {
          "output_type": "stream",
          "text": [
            "EvaluatorHoldout: Processed 102 ( 100.00% ) in 0.07 sec. Users per second: 1526\n",
            "i = 60   map = 0.039390756302521014\n",
            "EvaluatorHoldout: Processed 102 ( 100.00% ) in 0.07 sec. Users per second: 1519\n",
            "i = 70   map = 0.039390756302521014\n",
            "EvaluatorHoldout: Processed 102 ( 100.00% ) in 0.07 sec. Users per second: 1458\n",
            "i = 80   map = 0.039390756302521014\n",
            "EvaluatorHoldout: Processed 102 ( 100.00% ) in 0.07 sec. Users per second: 1501\n",
            "i = 90   map = 0.034488795518207285\n",
            "EvaluatorHoldout: Processed 102 ( 100.00% ) in 0.07 sec. Users per second: 1459\n",
            "i = 100   map = 0.04024665421724245\n",
            "EvaluatorHoldout: Processed 102 ( 100.00% ) in 0.07 sec. Users per second: 1428\n",
            "i = 110   map = 0.040301120448179274\n",
            "EvaluatorHoldout: Processed 102 ( 100.00% ) in 0.07 sec. Users per second: 1494\n",
            "i = 120   map = 0.040301120448179274\n",
            "EvaluatorHoldout: Processed 102 ( 100.00% ) in 0.07 sec. Users per second: 1458\n",
            "i = 130   map = 0.040301120448179274\n",
            "EvaluatorHoldout: Processed 102 ( 100.00% ) in 0.07 sec. Users per second: 1441\n",
            "i = 140   map = 0.040301120448179274\n"
          ],
          "name": "stdout"
        }
      ]
    },
    {
      "cell_type": "markdown",
      "metadata": {
        "id": "hivPIOdxNiPU"
      },
      "source": [
        "# Output"
      ]
    },
    {
      "cell_type": "code",
      "metadata": {
        "id": "u1W-8eTvNonb"
      },
      "source": [
        "hybridrecommender.fit(topK = 105,  alpha = 0.36) #k = 105"
      ],
      "execution_count": 148,
      "outputs": []
    },
    {
      "cell_type": "code",
      "metadata": {
        "id": "vZt7HD50huZc"
      },
      "source": [
        "\r\n",
        "for user_id in range():\r\n",
        "    print(topPopRecommender.recommend(user_id, at=10))"
      ],
      "execution_count": null,
      "outputs": []
    },
    {
      "cell_type": "code",
      "metadata": {
        "colab": {
          "base_uri": "https://localhost:8080/"
        },
        "id": "DHogYFetyEWR",
        "outputId": "4a41b096-be02-4ed9-c800-89fc26b7572c"
      },
      "source": [
        "#R_test=pd.read_csv('input/data_target_users_test.csv')\r\n",
        "n = len(R_test)\r\n",
        "\r\n",
        "azina = []\r\n",
        "for i in range(n):\r\n",
        "  usr_id=R_test['user_id'][i]\r\n",
        "  str_temp = str(hybridrecommender.recommend(usr_id,10))[1:-1]\r\n",
        "  str_temp = str_temp.replace(',','')\r\n",
        "  R_test['item_list'][i]=str_temp\r\n"
      ],
      "execution_count": 177,
      "outputs": [
        {
          "output_type": "stream",
          "text": [
            "/usr/local/lib/python3.6/dist-packages/ipykernel_launcher.py:9: SettingWithCopyWarning: \n",
            "A value is trying to be set on a copy of a slice from a DataFrame\n",
            "\n",
            "See the caveats in the documentation: https://pandas.pydata.org/pandas-docs/stable/user_guide/indexing.html#returning-a-view-versus-a-copy\n",
            "  if __name__ == '__main__':\n"
          ],
          "name": "stderr"
        }
      ]
    },
    {
      "cell_type": "code",
      "metadata": {
        "id": "dpOb8sMjyLTN"
      },
      "source": [
        "R_test=R_test.set_index('user_id')"
      ],
      "execution_count": 181,
      "outputs": []
    },
    {
      "cell_type": "code",
      "metadata": {
        "colab": {
          "base_uri": "https://localhost:8080/",
          "height": 437
        },
        "id": "TIrCN_kk0kqB",
        "outputId": "7e3e8db7-77ed-4568-82ea-52e8b601748c"
      },
      "source": [
        "R_test"
      ],
      "execution_count": 182,
      "outputs": [
        {
          "output_type": "execute_result",
          "data": {
            "text/html": [
              "<div>\n",
              "<style scoped>\n",
              "    .dataframe tbody tr th:only-of-type {\n",
              "        vertical-align: middle;\n",
              "    }\n",
              "\n",
              "    .dataframe tbody tr th {\n",
              "        vertical-align: top;\n",
              "    }\n",
              "\n",
              "    .dataframe thead th {\n",
              "        text-align: right;\n",
              "    }\n",
              "</style>\n",
              "<table border=\"1\" class=\"dataframe\">\n",
              "  <thead>\n",
              "    <tr style=\"text-align: right;\">\n",
              "      <th></th>\n",
              "      <th>item_list</th>\n",
              "    </tr>\n",
              "    <tr>\n",
              "      <th>user_id</th>\n",
              "      <th></th>\n",
              "    </tr>\n",
              "  </thead>\n",
              "  <tbody>\n",
              "    <tr>\n",
              "      <th>0</th>\n",
              "      <td>5085 8486 1789 19062 4927 1447 25878 6961 1511...</td>\n",
              "    </tr>\n",
              "    <tr>\n",
              "      <th>1</th>\n",
              "      <td>23600 12409 19089 19709 8894 8431 23244 3165 1...</td>\n",
              "    </tr>\n",
              "    <tr>\n",
              "      <th>2</th>\n",
              "      <td>15427 14031 21626 9547 2824 4842 11548 13251 9...</td>\n",
              "    </tr>\n",
              "    <tr>\n",
              "      <th>3</th>\n",
              "      <td>12473 6649 22487 3942 16834 7749 9528 3 2074 1...</td>\n",
              "    </tr>\n",
              "    <tr>\n",
              "      <th>4</th>\n",
              "      <td>1611 9243 19843 9578 9295 12474 19704 4294 185...</td>\n",
              "    </tr>\n",
              "    <tr>\n",
              "      <th>...</th>\n",
              "      <td>...</td>\n",
              "    </tr>\n",
              "    <tr>\n",
              "      <th>7942</th>\n",
              "      <td>24398 25755 24764 4068 25338 11445 20130 2458 ...</td>\n",
              "    </tr>\n",
              "    <tr>\n",
              "      <th>7943</th>\n",
              "      <td>14137 20368 19874 25760 4502 7913 24348 18419 ...</td>\n",
              "    </tr>\n",
              "    <tr>\n",
              "      <th>7944</th>\n",
              "      <td>12116 6220 24093 24636 857 3338 2562 17820 135...</td>\n",
              "    </tr>\n",
              "    <tr>\n",
              "      <th>7945</th>\n",
              "      <td>23410 19010 15805 3934 7896 15006 3886 9090 25...</td>\n",
              "    </tr>\n",
              "    <tr>\n",
              "      <th>7946</th>\n",
              "      <td>2838 16522 14904 18129 2523 10752 10471 14360 ...</td>\n",
              "    </tr>\n",
              "  </tbody>\n",
              "</table>\n",
              "<p>7944 rows × 1 columns</p>\n",
              "</div>"
            ],
            "text/plain": [
              "                                                 item_list\n",
              "user_id                                                   \n",
              "0        5085 8486 1789 19062 4927 1447 25878 6961 1511...\n",
              "1        23600 12409 19089 19709 8894 8431 23244 3165 1...\n",
              "2        15427 14031 21626 9547 2824 4842 11548 13251 9...\n",
              "3        12473 6649 22487 3942 16834 7749 9528 3 2074 1...\n",
              "4        1611 9243 19843 9578 9295 12474 19704 4294 185...\n",
              "...                                                    ...\n",
              "7942     24398 25755 24764 4068 25338 11445 20130 2458 ...\n",
              "7943     14137 20368 19874 25760 4502 7913 24348 18419 ...\n",
              "7944     12116 6220 24093 24636 857 3338 2562 17820 135...\n",
              "7945     23410 19010 15805 3934 7896 15006 3886 9090 25...\n",
              "7946     2838 16522 14904 18129 2523 10752 10471 14360 ...\n",
              "\n",
              "[7944 rows x 1 columns]"
            ]
          },
          "metadata": {
            "tags": []
          },
          "execution_count": 182
        }
      ]
    },
    {
      "cell_type": "code",
      "metadata": {
        "id": "EoHGfBl62lxU"
      },
      "source": [
        "R_test.to_csv('result_itemLinearHybrid.csv')"
      ],
      "execution_count": 183,
      "outputs": []
    },
    {
      "cell_type": "code",
      "metadata": {
        "id": "0BPpH0v04F-E"
      },
      "source": [
        ""
      ],
      "execution_count": 184,
      "outputs": []
    },
    {
      "cell_type": "code",
      "metadata": {
        "id": "27jGKdu_4H_j"
      },
      "source": [
        ""
      ],
      "execution_count": null,
      "outputs": []
    }
  ]
}