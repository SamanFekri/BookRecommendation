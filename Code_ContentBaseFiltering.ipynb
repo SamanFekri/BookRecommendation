{
 "cells": [
  {
   "cell_type": "code",
   "execution_count": 1,
   "metadata": {},
   "outputs": [],
   "source": [
    "# This Python 3 environment comes with many helpful analytics libraries installed\n",
    "# It is defined by the kaggle/python Docker image: https://github.com/kaggle/docker-python\n",
    "# For example, here's several helpful packages to load\n",
    "import numpy as np # linear algebra\n",
    "import pandas as pd # data processing, CSV file I/O (e.g. pd.read_csv)\n",
    "import scipy.sparse as sps\n",
    "\n",
    "\n",
    "# Input data files are available in the read-only \"./input/\" directory\n",
    "# For example, running this (by clicking run or pressing Shift+Enter) will list all files under the input directory\n",
    "\n",
    "import os\n"
   ]
  },
  {
   "cell_type": "code",
   "execution_count": 2,
   "metadata": {},
   "outputs": [],
   "source": [
    "RM_train=pd.read_csv('./input/data_train.csv')\n",
    "R_test=pd.read_csv('./input/data_target_users_test.csv')\n",
    "URM=pd.read_csv('./input/data_train.csv')\n",
    "URM_tuples = [tuple(x) for x in URM.to_numpy()]\n",
    "\n",
    "userList, itemList, ratingList = zip(*URM_tuples)\n",
    "\n",
    "userList = list(userList)\n",
    "userList=np.array(userList,dtype=np.int64)\n",
    "itemList = list(itemList)\n",
    "itemList=np.array(itemList,dtype=np.int64)\n",
    "\n",
    "ratingList = list(ratingList)                        #not needed\n",
    "ratingList=np.array(ratingList,dtype=np.int64)       #not needed\n",
    "\n",
    "URM_all = sps.coo_matrix((ratingList, (userList, itemList)))\n",
    "URM_all = URM_all.tocsr()"
   ]
  },
  {
   "cell_type": "code",
   "execution_count": 3,
   "metadata": {},
   "outputs": [
    {
     "name": "stdout",
     "output_type": "stream",
     "text": [
      "Number of items\t 24896, Number of users\t 7947\n",
      "Number of Intraction \t 113268\n",
      "Max ID items\t 25974, Max Id users\t 7946\n",
      "\n",
      "Average interactions per user 14.25\n",
      "Average interactions per item 4.55\n",
      "\n",
      "Sparsity 99.94 %\n"
     ]
    }
   ],
   "source": [
    "userList_unique = list(set(userList))\n",
    "itemList_unique = list(set(itemList))\n",
    "\n",
    "numUsers = len(userList_unique)\n",
    "numItems = len(itemList_unique)\n",
    "\n",
    "numberInteractions= len(URM_tuples)\n",
    "print (\"Number of items\\t {}, Number of users\\t {}\".format(numItems, numUsers))\n",
    "print(\"Number of Intraction \\t {}\" .format(numberInteractions))\n",
    "print (\"Max ID items\\t {}, Max Id users\\t {}\\n\".format(max(itemList_unique), max(userList_unique)))\n",
    "print (\"Average interactions per user {:.2f}\".format(numberInteractions/numUsers))\n",
    "print (\"Average interactions per item {:.2f}\\n\".format(numberInteractions/numItems))\n",
    "\n",
    "print (\"Sparsity {:.2f} %\".format((1-float(numberInteractions)/(numItems*numUsers))*100))"
   ]
  },
  {
   "cell_type": "code",
   "execution_count": 4,
   "metadata": {},
   "outputs": [
    {
     "data": {
      "text/plain": [
       "<25975x20000 sparse matrix of type '<class 'numpy.float64'>'\n",
       "\twith 490691 stored elements in COOrdinate format>"
      ]
     },
     "execution_count": 4,
     "metadata": {},
     "output_type": "execute_result"
    }
   ],
   "source": [
    "ICM = pd.read_csv('./input/data_ICM_title_abstract.csv')\n",
    "ICM_tuples = [tuple(x) for x in ICM.to_numpy()]\n",
    "itemList_icm, featureList_icm, scoreList_icm = zip(*ICM_tuples)\n",
    "\n",
    "itemList_icm = list(itemList_icm)\n",
    "itemList_icm = np.array(itemList_icm,dtype=np.int64)\n",
    "\n",
    "featureList_icm = list(featureList_icm)\n",
    "featureList_icm = np.array(featureList_icm,dtype=np.int64)\n",
    "\n",
    "scoreList_icm = list(scoreList_icm)\n",
    "scoreList_icm = np.array(scoreList_icm,dtype=np.float64)\n",
    "\n",
    "ICM_all = sps.coo_matrix((scoreList_icm, (itemList_icm, featureList_icm)))\n",
    "\n",
    "ICM_all"
   ]
  },
  {
   "cell_type": "code",
   "execution_count": 5,
   "metadata": {},
   "outputs": [
    {
     "name": "stdout",
     "output_type": "stream",
     "text": [
      "Warning: 72 (0.91 %) of 7947 users have no train items\n",
      "Warning: 2319 (29.18 %) of 7947 users have no sampled items\n",
      "Warning: 233 (2.93 %) of 7947 users have no train items\n",
      "Warning: 2891 (36.38 %) of 7947 users have no sampled items\n"
     ]
    }
   ],
   "source": [
    "from Base.Evaluation.Evaluator import EvaluatorHoldout\n",
    "from Data_manager.split_functions.split_train_validation_random_holdout import split_train_in_two_percentage_global_sample\n",
    "\n",
    "URM_train, URM_test = split_train_in_two_percentage_global_sample(URM_all, train_percentage = 0.80)\n",
    "URM_train, URM_validation = split_train_in_two_percentage_global_sample(URM_train, train_percentage = 0.80)\n",
    "\n",
    "evaluator_validation = EvaluatorHoldout(URM_validation, cutoff_list=[10])\n",
    "evaluator_test = EvaluatorHoldout(URM_test, cutoff_list=[10])"
   ]
  },
  {
   "cell_type": "code",
   "execution_count": 6,
   "metadata": {},
   "outputs": [
    {
     "name": "stdout",
     "output_type": "stream",
     "text": [
      "ItemKNNCBFRecommender: URM Detected 233 (2.93 %) cold users.\n",
      "ItemKNNCBFRecommender: URM Detected 3982 (15.33 %) cold items.\n",
      "Similarity column 25975 ( 100 % ), 4354.57 column/sec, elapsed time 0.10 min\n",
      "EvaluatorHoldout: Processed 5628 ( 100.00% ) in 2.82 sec. Users per second: 1996\n",
      "ItemKNNCBFRecommender: URM Detected 233 (2.93 %) cold users.\n",
      "ItemKNNCBFRecommender: URM Detected 3982 (15.33 %) cold items.\n",
      "Similarity column 25975 ( 100 % ), 4280.47 column/sec, elapsed time 0.10 min\n",
      "EvaluatorHoldout: Processed 5628 ( 100.00% ) in 2.94 sec. Users per second: 1912\n",
      "ItemKNNCBFRecommender: URM Detected 233 (2.93 %) cold users.\n",
      "ItemKNNCBFRecommender: URM Detected 3982 (15.33 %) cold items.\n",
      "Similarity column 25975 ( 100 % ), 4193.46 column/sec, elapsed time 0.10 min\n",
      "EvaluatorHoldout: Processed 5628 ( 100.00% ) in 3.02 sec. Users per second: 1866\n",
      "ItemKNNCBFRecommender: URM Detected 233 (2.93 %) cold users.\n",
      "ItemKNNCBFRecommender: URM Detected 3982 (15.33 %) cold items.\n",
      "Similarity column 25975 ( 100 % ), 4111.41 column/sec, elapsed time 0.11 min\n",
      "EvaluatorHoldout: Processed 5628 ( 100.00% ) in 3.16 sec. Users per second: 1782\n",
      "ItemKNNCBFRecommender: URM Detected 233 (2.93 %) cold users.\n",
      "ItemKNNCBFRecommender: URM Detected 3982 (15.33 %) cold items.\n",
      "Similarity column 25975 ( 100 % ), 3744.40 column/sec, elapsed time 0.12 min\n",
      "EvaluatorHoldout: Processed 5628 ( 100.00% ) in 3.80 sec. Users per second: 1483\n",
      "[0.014948001781262134, 0.016765537705776986, 0.01748968345070531, 0.01788228646969595, 0.01789687052826607]\n"
     ]
    }
   ],
   "source": [
    "from KNN.ItemKNNCBFRecommender import ItemKNNCBFRecommender\n",
    "\n",
    "x_tick = [10, 50, 100, 200, 500,100]\n",
    "MAP_per_k = []\n",
    "\n",
    "for topK in x_tick:\n",
    "    recommender = ItemKNNCBFRecommender(URM_train, ICM_all)\n",
    "    recommender.fit(shrink=0.0, topK=topK)\n",
    "    \n",
    "    result_dict, _ = evaluator_test.evaluateRecommender(recommender)\n",
    "    \n",
    "    MAP_per_k.append(result_dict[10][\"MAP\"])\n",
    "    \n",
    "print(MAP_per_k)"
   ]
  },
  {
   "cell_type": "code",
   "execution_count": 7,
   "metadata": {},
   "outputs": [
    {
     "data": {
      "image/png": "[encoded data removed]",
      "text/plain": [
       "<Figure size 432x288 with 1 Axes>"
      ]
     },
     "metadata": {
      "needs_background": "light"
     },
     "output_type": "display_data"
    }
   ],
   "source": [
    "import matplotlib.pyplot as pyplot\n",
    "\n",
    "pyplot.plot(x_tick, MAP_per_k)\n",
    "pyplot.show()\n"
   ]
  },
  {
   "cell_type": "code",
   "execution_count": 8,
   "metadata": {},
   "outputs": [
    {
     "name": "stdout",
     "output_type": "stream",
     "text": [
      "ItemKNNCBFRecommender: URM Detected 233 (2.93 %) cold users.\n",
      "ItemKNNCBFRecommender: URM Detected 3982 (15.33 %) cold items.\n",
      "Similarity column 25975 ( 100 % ), 4228.15 column/sec, elapsed time 0.10 min\n",
      "EvaluatorHoldout: Processed 5628 ( 100.00% ) in 3.68 sec. Users per second: 1531\n",
      "ItemKNNCBFRecommender: URM Detected 233 (2.93 %) cold users.\n",
      "ItemKNNCBFRecommender: URM Detected 3982 (15.33 %) cold items.\n",
      "Similarity column 25975 ( 100 % ), 3750.82 column/sec, elapsed time 0.12 min\n",
      "EvaluatorHoldout: Processed 5628 ( 100.00% ) in 3.46 sec. Users per second: 1627\n",
      "ItemKNNCBFRecommender: URM Detected 233 (2.93 %) cold users.\n",
      "ItemKNNCBFRecommender: URM Detected 3982 (15.33 %) cold items.\n",
      "Similarity column 25975 ( 100 % ), 3824.00 column/sec, elapsed time 0.11 min\n",
      "EvaluatorHoldout: Processed 5628 ( 100.00% ) in 2.97 sec. Users per second: 1893\n",
      "ItemKNNCBFRecommender: URM Detected 233 (2.93 %) cold users.\n",
      "ItemKNNCBFRecommender: URM Detected 3982 (15.33 %) cold items.\n",
      "Similarity column 25975 ( 100 % ), 4263.34 column/sec, elapsed time 0.10 min\n",
      "EvaluatorHoldout: Processed 5628 ( 100.00% ) in 2.96 sec. Users per second: 1900\n",
      "[0.019101990766034496, 0.01900005949068142, 0.019163114853064326, 0.018661442880081813]\n"
     ]
    }
   ],
   "source": [
    "x_tick = [5,10,15,20]\n",
    "MAP_per_shrinkage = []\n",
    "\n",
    "for shrink in x_tick:\n",
    "    \n",
    "    recommender = ItemKNNCBFRecommender(URM_train, ICM_all)\n",
    "    recommender.fit(shrink=shrink, topK=100)\n",
    "    \n",
    "    result_dict, _ = evaluator_test.evaluateRecommender(recommender)\n",
    "    \n",
    "    MAP_per_shrinkage.append(result_dict[10][\"MAP\"])\n",
    "    \n",
    "print(MAP_per_shrinkage)"
   ]
  },
  {
   "cell_type": "code",
   "execution_count": 9,
   "metadata": {},
   "outputs": [
    {
     "data": {
      "image/png": "[encoded data removed]",
      "text/plain": [
       "<Figure size 432x288 with 1 Axes>"
      ]
     },
     "metadata": {
      "needs_background": "light"
     },
     "output_type": "display_data"
    }
   ],
   "source": [
    "pyplot.plot(x_tick, MAP_per_shrinkage)\n",
    "pyplot.show()"
   ]
  },
  {
   "cell_type": "code",
   "execution_count": 25,
   "metadata": {},
   "outputs": [
    {
     "name": "stdout",
     "output_type": "stream",
     "text": [
      "ItemKNNCBFRecommender: URM Detected 1079 (4.15 %) cold items.\n",
      "Similarity column 25975 ( 100 % ), 3524.10 column/sec, elapsed time 0.12 min\n"
     ]
    }
   ],
   "source": [
    "recommender = ItemKNNCBFRecommender(URM_all, ICM_all)\n",
    "recommender.fit(shrink=15, topK=200)"
   ]
  },
  {
   "cell_type": "code",
   "execution_count": 26,
   "metadata": {},
   "outputs": [],
   "source": [
    "userTestList = [x for x in R_test.to_numpy()]\n",
    "userTestList = zip(*userTestList)\n",
    "userTestList = [list(a) for a in userTestList][0]"
   ]
  },
  {
   "cell_type": "code",
   "execution_count": 27,
   "metadata": {},
   "outputs": [],
   "source": [
    "recoms = recommender.recommend(userTestList, cutoff=10)"
   ]
  },
  {
   "cell_type": "code",
   "execution_count": 28,
   "metadata": {},
   "outputs": [],
   "source": [
    "recomList = []\n",
    "for i in range(len(recoms)):\n",
    "    recomList.append(' '.join(str(e) for e in recoms[i]))\n",
    "# print(recoms)\n",
    "\n",
    "res = {\"user_id\": userTestList, \"item_list\": recomList}\n",
    "result = pd.DataFrame(res, columns= ['user_id', 'item_list'])\n",
    "\n",
    "result.to_csv ('outputs/cbfv1.csv', index = False, header=True)"
   ]
  },
  {
   "cell_type": "code",
   "execution_count": 29,
   "metadata": {},
   "outputs": [
    {
     "name": "stdout",
     "output_type": "stream",
     "text": [
      "[18  6 22 ... 26 15 16]\n",
      "(25975, 20000)\n",
      "(25975,)\n"
     ]
    }
   ],
   "source": [
    "ICM_all = ICM_all.tocsr()\n",
    "num_tot_items = ICM_all.shape[0]\n",
    "\n",
    "# let's count how many items have a certain feature\n",
    "items_per_feature = np.ediff1d(ICM_all.indptr) + 1\n",
    "print(items_per_feature)\n",
    "\n",
    "IDF = np.array(np.log(num_tot_items / items_per_feature))\n",
    "\n",
    "print(ICM_all.shape)\n",
    "print(IDF.shape)"
   ]
  },
  {
   "cell_type": "code",
   "execution_count": 30,
   "metadata": {},
   "outputs": [
    {
     "data": {
      "image/png": "[encoded data removed]",
      "text/plain": [
       "<Figure size 432x288 with 1 Axes>"
      ]
     },
     "metadata": {
      "needs_background": "light"
     },
     "output_type": "display_data"
    }
   ],
   "source": [
    "pyplot.plot(np.sort(IDF))\n",
    "pyplot.ylabel('IDF')\n",
    "pyplot.xlabel('Sorted feature')\n",
    "pyplot.show()"
   ]
  },
  {
   "cell_type": "code",
   "execution_count": null,
   "metadata": {},
   "outputs": [],
   "source": []
  },
  {
   "cell_type": "code",
   "execution_count": 33,
   "metadata": {},
   "outputs": [
    {
     "name": "stdout",
     "output_type": "stream",
     "text": [
      "7153\n",
      "6181\n",
      "20612\n",
      "23790\n",
      "15981\n",
      "2328\n",
      "5550\n",
      "10424\n",
      "12247\n",
      "25504\n",
      "20299\n",
      "20724\n",
      "9629\n",
      "25180\n",
      "21183\n",
      "670\n",
      "19660\n",
      "6451\n",
      "15694\n",
      "9980\n"
     ]
    }
   ],
   "source": [
    "sorted_features = np.argsort(-IDF)\n",
    "\n",
    "highest_ranked_features = sorted_features[:20]\n",
    "\n",
    "for feature_index in highest_ranked_features:\n",
    "    print(feature_index)"
   ]
  },
  {
   "cell_type": "code",
   "execution_count": 34,
   "metadata": {},
   "outputs": [
    {
     "name": "stdout",
     "output_type": "stream",
     "text": [
      "20608\n",
      "14216\n",
      "4925\n",
      "14554\n",
      "25151\n",
      "15277\n",
      "16030\n",
      "25165\n",
      "8328\n",
      "11438\n",
      "14863\n",
      "11941\n",
      "852\n",
      "25472\n",
      "7920\n",
      "17921\n",
      "4113\n",
      "20816\n",
      "10833\n",
      "21611\n"
     ]
    }
   ],
   "source": [
    "lowest_ranked_features = sorted_features[-20:]\n",
    "\n",
    "for feature_index in lowest_ranked_features:\n",
    "    print(feature_index)    "
   ]
  },
  {
   "cell_type": "code",
   "execution_count": 35,
   "metadata": {},
   "outputs": [
    {
     "data": {
      "text/plain": [
       "<25975x25975 sparse matrix of type '<class 'numpy.float64'>'\n",
       "\twith 25975 stored elements (1 diagonals) in DIAgonal format>"
      ]
     },
     "execution_count": 35,
     "metadata": {},
     "output_type": "execute_result"
    }
   ],
   "source": [
    "from scipy.sparse import diags\n",
    "diags(IDF)"
   ]
  },
  {
   "cell_type": "code",
   "execution_count": 36,
   "metadata": {},
   "outputs": [],
   "source": [
    "ICM_idf = ICM_all.copy()\n",
    "\n",
    "ICM_idf = diags(IDF)*ICM_idf"
   ]
  },
  {
   "cell_type": "code",
   "execution_count": 37,
   "metadata": {},
   "outputs": [
    {
     "name": "stdout",
     "output_type": "stream",
     "text": [
      "ItemKNNCBFRecommender: URM Detected 233 (2.93 %) cold users.\n",
      "ItemKNNCBFRecommender: URM Detected 3982 (15.33 %) cold items.\n",
      "Similarity column 25975 ( 100 % ), 4027.16 column/sec, elapsed time 0.11 min\n",
      "EvaluatorHoldout: Processed 5628 ( 100.00% ) in 3.37 sec. Users per second: 1668\n"
     ]
    },
    {
     "data": {
      "text/plain": [
       "{'ROC_AUC': 0.06778444794169743,\n",
       " 'PRECISION': 0.014001421464108016,\n",
       " 'PRECISION_RECALL_MIN_DEN': 0.04563802303674362,\n",
       " 'RECALL': 0.04390271523681687,\n",
       " 'MAP': 0.019225104131915714,\n",
       " 'MRR': 0.04740131541837297,\n",
       " 'NDCG': 0.031124911846906772,\n",
       " 'F1': 0.021231658201703967,\n",
       " 'HIT_RATE': 0.14001421464108033,\n",
       " 'ARHR': 0.052683789104364734,\n",
       " 'NOVELTY': 0.004903299915404038,\n",
       " 'AVERAGE_POPULARITY': 0.016858105784441996,\n",
       " 'DIVERSITY_MEAN_INTER_LIST': 0.9969641245143952,\n",
       " 'DIVERSITY_HERFINDAHL': 0.9996786980924396,\n",
       " 'COVERAGE_ITEM': 0.6065447545717035,\n",
       " 'COVERAGE_ITEM_CORRECT': 0.027834456207892204,\n",
       " 'COVERAGE_USER': 0.7081917704794262,\n",
       " 'COVERAGE_USER_CORRECT': 0.07977853277966528,\n",
       " 'DIVERSITY_GINI': 0.28827511546933376,\n",
       " 'SHANNON_ENTROPY': 13.042726914915928}"
      ]
     },
     "execution_count": 37,
     "metadata": {},
     "output_type": "execute_result"
    }
   ],
   "source": [
    "recommender_idf = ItemKNNCBFRecommender(URM_train, ICM_idf)\n",
    "recommender_idf.fit(shrink=15, topK=200)\n",
    "\n",
    "result_dict, _ = evaluator_test.evaluateRecommender(recommender_idf)\n",
    "result_dict[10]"
   ]
  },
  {
   "cell_type": "code",
   "execution_count": null,
   "metadata": {},
   "outputs": [],
   "source": []
  }
 ],
 "metadata": {
  "kernelspec": {
   "display_name": "Python 3",
   "language": "python",
   "name": "python3"
  },
  "language_info": {
   "codemirror_mode": {
    "name": "ipython",
    "version": 3
   },
   "file_extension": ".py",
   "mimetype": "text/x-python",
   "name": "python",
   "nbconvert_exporter": "python",
   "pygments_lexer": "ipython3",
   "version": "3.7.0"
  }
 },
 "nbformat": 4,
 "nbformat_minor": 4
}
