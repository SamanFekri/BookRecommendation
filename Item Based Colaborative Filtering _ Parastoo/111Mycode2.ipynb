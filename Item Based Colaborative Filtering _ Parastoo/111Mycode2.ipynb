{
 "cells": [
  {
   "cell_type": "code",
   "execution_count": 1,
   "metadata": {
    "_cell_guid": "b1076dfc-b9ad-4769-8c92-a6c4dae69d19",
    "_uuid": "8f2839f25d086af736a60e9eeb907d3b93b6e0e5",
    "execution": {
     "iopub.execute_input": "2020-11-19T21:51:49.802794Z",
     "iopub.status.busy": "2020-11-19T21:51:49.802070Z",
     "iopub.status.idle": "2020-11-19T21:51:49.806662Z",
     "shell.execute_reply": "2020-11-19T21:51:49.807408Z"
    },
    "papermill": {
     "duration": 0.042563,
     "end_time": "2020-11-19T21:51:49.807656",
     "exception": false,
     "start_time": "2020-11-19T21:51:49.765093",
     "status": "completed"
    },
    "tags": []
   },
   "outputs": [],
   "source": [
    "# This Python 3 environment comes with many helpful analytics libraries installed\n",
    "# It is defined by the kaggle/python Docker image: https://github.com/kaggle/docker-python\n",
    "# For example, here's several helpful packages to load\n",
    "import numpy as np # linear algebra\n",
    "import pandas as pd # data processing, CSV file I/O (e.g. pd.read_csv)\n",
    "\n",
    "# Input data files are available in the read-only \"../input/\" directory\n",
    "# For example, running this (by clicking run or pressing Shift+Enter) will list all files under the input directory\n",
    "\n",
    "import os\n",
    "#for dirname, _, filenames in os.walk('/kaggle/input'):\n",
    " #   for filename in filenames:\n",
    "  #      print(os.path.join(dirname, filename))\n",
    "\n",
    "# You can write up to 20GB to the current directory (/kaggle/working/) that gets preserved as output when you create a version using \"Save & Run All\" \n",
    "# You can also write temporary files to /kaggle/temp/, but they won't be saved outside of the current session"
   ]
  },
  {
   "cell_type": "code",
   "execution_count": 3,
   "metadata": {
    "execution": {
     "iopub.execute_input": "2020-11-19T21:51:49.872833Z",
     "iopub.status.busy": "2020-11-19T21:51:49.872115Z",
     "iopub.status.idle": "2020-11-19T21:51:49.876646Z",
     "shell.execute_reply": "2020-11-19T21:51:49.876014Z"
    },
    "papermill": {
     "duration": 0.038539,
     "end_time": "2020-11-19T21:51:49.876769",
     "exception": false,
     "start_time": "2020-11-19T21:51:49.838230",
     "status": "completed"
    },
    "tags": []
   },
   "outputs": [
    {
     "name": "stdout",
     "output_type": "stream",
     "text": [
      "C:\\Users\\arouhi\\Py\\PR\\db\n"
     ]
    }
   ],
   "source": [
    "cd db/"
   ]
  },
  {
   "cell_type": "code",
   "execution_count": 134,
   "metadata": {
    "execution": {
     "iopub.execute_input": "2020-11-19T21:51:50.003346Z",
     "iopub.status.busy": "2020-11-19T21:51:50.002660Z",
     "iopub.status.idle": "2020-11-19T21:51:50.056809Z",
     "shell.execute_reply": "2020-11-19T21:51:50.056094Z"
    },
    "papermill": {
     "duration": 0.090652,
     "end_time": "2020-11-19T21:51:50.056935",
     "exception": false,
     "start_time": "2020-11-19T21:51:49.966283",
     "status": "completed"
    },
    "tags": []
   },
   "outputs": [],
   "source": [
    "URM_train=pd.read_csv('data_train.csv')\n",
    "R_test=pd.read_csv('data_target_users_test.csv')\n"
   ]
  },
  {
   "cell_type": "code",
   "execution_count": 5,
   "metadata": {
    "_cell_guid": "79c7e3d0-c299-4dcb-8224-4455121ee9b0",
    "_uuid": "d629ff2d2480ee46fbb7e2d37f6b5fab8052498a",
    "execution": {
     "iopub.execute_input": "2020-11-19T21:51:50.121957Z",
     "iopub.status.busy": "2020-11-19T21:51:50.121243Z",
     "iopub.status.idle": "2020-11-19T21:51:50.349090Z",
     "shell.execute_reply": "2020-11-19T21:51:50.348469Z"
    },
    "papermill": {
     "duration": 0.26266,
     "end_time": "2020-11-19T21:51:50.349208",
     "exception": false,
     "start_time": "2020-11-19T21:51:50.086548",
     "status": "completed"
    },
    "tags": []
   },
   "outputs": [],
   "source": [
    "URM=pd.read_csv('data_train.csv')\n",
    "URM_tuples = [tuple(x) for x in URM.to_numpy()]\n"
   ]
  },
  {
   "cell_type": "code",
   "execution_count": 6,
   "metadata": {
    "execution": {
     "iopub.execute_input": "2020-11-19T21:51:50.565428Z",
     "iopub.status.busy": "2020-11-19T21:51:50.564628Z",
     "iopub.status.idle": "2020-11-19T21:51:50.570729Z",
     "shell.execute_reply": "2020-11-19T21:51:50.569775Z"
    },
    "papermill": {
     "duration": 0.192062,
     "end_time": "2020-11-19T21:51:50.570892",
     "exception": false,
     "start_time": "2020-11-19T21:51:50.378830",
     "status": "completed"
    },
    "tags": []
   },
   "outputs": [],
   "source": [
    "userList, itemList, ratingList = zip(*URM_tuples)\n",
    "\n",
    "userList = list(userList)\n",
    "userList=np.array(userList,dtype=np.int64)\n",
    "itemList = list(itemList)\n",
    "itemList=np.array(itemList,dtype=np.int64)\n",
    "\n",
    "ratingList = list(ratingList)                        #not needed\n",
    "ratingList=np.array(ratingList,dtype=np.int64)       #not needed\n",
    "\n",
    "\n",
    "\n"
   ]
  },
  {
   "cell_type": "code",
   "execution_count": 7,
   "metadata": {
    "execution": {
     "iopub.execute_input": "2020-11-19T21:51:50.648214Z",
     "iopub.status.busy": "2020-11-19T21:51:50.647195Z",
     "iopub.status.idle": "2020-11-19T21:51:50.653506Z",
     "shell.execute_reply": "2020-11-19T21:51:50.652962Z"
    },
    "papermill": {
     "duration": 0.040663,
     "end_time": "2020-11-19T21:51:50.653636",
     "exception": false,
     "start_time": "2020-11-19T21:51:50.612973",
     "status": "completed"
    },
    "tags": []
   },
   "outputs": [
    {
     "data": {
      "text/plain": [
       "0"
      ]
     },
     "execution_count": 7,
     "metadata": {},
     "output_type": "execute_result"
    }
   ],
   "source": [
    "len(ratingList)-np.count_nonzero(ratingList)"
   ]
  },
  {
   "cell_type": "code",
   "execution_count": 8,
   "metadata": {
    "execution": {
     "iopub.execute_input": "2020-11-19T21:51:50.723488Z",
     "iopub.status.busy": "2020-11-19T21:51:50.722655Z",
     "iopub.status.idle": "2020-11-19T21:51:50.727498Z",
     "shell.execute_reply": "2020-11-19T21:51:50.726875Z"
    },
    "papermill": {
     "duration": 0.044418,
     "end_time": "2020-11-19T21:51:50.727642",
     "exception": false,
     "start_time": "2020-11-19T21:51:50.683224",
     "status": "completed"
    },
    "tags": []
   },
   "outputs": [
    {
     "data": {
      "text/plain": [
       "array([10080, 19467,  2665, ..., 21384,  8699, 19178], dtype=int64)"
      ]
     },
     "execution_count": 8,
     "metadata": {},
     "output_type": "execute_result"
    }
   ],
   "source": [
    "itemList"
   ]
  },
  {
   "cell_type": "code",
   "execution_count": 9,
   "metadata": {
    "execution": {
     "iopub.execute_input": "2020-11-19T21:51:50.830408Z",
     "iopub.status.busy": "2020-11-19T21:51:50.829368Z",
     "iopub.status.idle": "2020-11-19T21:51:50.833735Z",
     "shell.execute_reply": "2020-11-19T21:51:50.833015Z"
    },
    "papermill": {
     "duration": 0.076202,
     "end_time": "2020-11-19T21:51:50.833850",
     "exception": false,
     "start_time": "2020-11-19T21:51:50.757648",
     "status": "completed"
    },
    "tags": []
   },
   "outputs": [
    {
     "name": "stdout",
     "output_type": "stream",
     "text": [
      "Number of items\t 24896, Number of users\t 7947\n",
      "Number of Intraction \t 113268\n",
      "Max ID items\t 25974, Max Id users\t 7946\n",
      "\n",
      "Average interactions per user 14.25\n",
      "Average interactions per item 4.55\n",
      "\n",
      "Sparsity 99.94 %\n"
     ]
    }
   ],
   "source": [
    "userList_unique = list(set(userList))\n",
    "itemList_unique = list(set(itemList))\n",
    "\n",
    "numUsers = len(userList_unique)\n",
    "numItems = len(itemList_unique)\n",
    "\n",
    "numberInteractions= len(URM_tuples)\n",
    "print (\"Number of items\\t {}, Number of users\\t {}\".format(numItems, numUsers))\n",
    "print(\"Number of Intraction \\t {}\" .format(numberInteractions))\n",
    "print (\"Max ID items\\t {}, Max Id users\\t {}\\n\".format(max(itemList_unique), max(userList_unique)))\n",
    "print (\"Average interactions per user {:.2f}\".format(numberInteractions/numUsers))\n",
    "print (\"Average interactions per item {:.2f}\\n\".format(numberInteractions/numItems))\n",
    "\n",
    "print (\"Sparsity {:.2f} %\".format((1-float(numberInteractions)/(numItems*numUsers))*100))"
   ]
  },
  {
   "cell_type": "markdown",
   "metadata": {
    "papermill": {
     "duration": 0.03014,
     "end_time": "2020-11-19T21:51:50.894432",
     "exception": false,
     "start_time": "2020-11-19T21:51:50.864292",
     "status": "completed"
    },
    "tags": []
   },
   "source": [
    "To store the data we use a sparse matrix. We build it as a COO matrix and then change its format\n",
    "The COO constructor expects (data, (row, column))"
   ]
  },
  {
   "cell_type": "code",
   "execution_count": 10,
   "metadata": {
    "execution": {
     "iopub.execute_input": "2020-11-19T21:51:50.960809Z",
     "iopub.status.busy": "2020-11-19T21:51:50.960029Z",
     "iopub.status.idle": "2020-11-19T21:51:51.084634Z",
     "shell.execute_reply": "2020-11-19T21:51:51.083965Z"
    },
    "papermill": {
     "duration": 0.159898,
     "end_time": "2020-11-19T21:51:51.084754",
     "exception": false,
     "start_time": "2020-11-19T21:51:50.924856",
     "status": "completed"
    },
    "tags": []
   },
   "outputs": [
    {
     "data": {
      "text/plain": [
       "<7947x25975 sparse matrix of type '<class 'numpy.int64'>'\n",
       "\twith 113268 stored elements in COOrdinate format>"
      ]
     },
     "execution_count": 10,
     "metadata": {},
     "output_type": "execute_result"
    }
   ],
   "source": [
    "\n",
    "import scipy.sparse as sps\n",
    "\n",
    "URM_all = sps.coo_matrix((ratingList, (userList, itemList)))\n",
    "\n",
    "URM_all"
   ]
  },
  {
   "cell_type": "code",
   "execution_count": 11,
   "metadata": {
    "execution": {
     "iopub.execute_input": "2020-11-19T21:51:51.151128Z",
     "iopub.status.busy": "2020-11-19T21:51:51.150410Z",
     "iopub.status.idle": "2020-11-19T21:51:51.156411Z",
     "shell.execute_reply": "2020-11-19T21:51:51.155871Z"
    },
    "papermill": {
     "duration": 0.040864,
     "end_time": "2020-11-19T21:51:51.156549",
     "exception": false,
     "start_time": "2020-11-19T21:51:51.115685",
     "status": "completed"
    },
    "tags": []
   },
   "outputs": [
    {
     "data": {
      "text/plain": [
       "<7947x25975 sparse matrix of type '<class 'numpy.int64'>'\n",
       "\twith 113268 stored elements in Compressed Sparse Row format>"
      ]
     },
     "execution_count": 11,
     "metadata": {},
     "output_type": "execute_result"
    }
   ],
   "source": [
    "URM_all.tocsr()"
   ]
  },
  {
   "cell_type": "markdown",
   "metadata": {
    "papermill": {
     "duration": 0.030591,
     "end_time": "2020-11-19T21:51:51.218475",
     "exception": false,
     "start_time": "2020-11-19T21:51:51.187884",
     "status": "completed"
    },
    "tags": []
   },
   "source": [
    "** Item popularity\n",
    "**"
   ]
  },
  {
   "cell_type": "code",
   "execution_count": 12,
   "metadata": {
    "execution": {
     "iopub.execute_input": "2020-11-19T21:51:51.285555Z",
     "iopub.status.busy": "2020-11-19T21:51:51.284896Z",
     "iopub.status.idle": "2020-11-19T21:51:51.296964Z",
     "shell.execute_reply": "2020-11-19T21:51:51.297398Z"
    },
    "papermill": {
     "duration": 0.048209,
     "end_time": "2020-11-19T21:51:51.297593",
     "exception": false,
     "start_time": "2020-11-19T21:51:51.249384",
     "status": "completed"
    },
    "tags": []
   },
   "outputs": [
    {
     "data": {
      "text/plain": [
       "matrix([[2, 3, 5, ..., 1, 1, 2]], dtype=int32)"
      ]
     },
     "execution_count": 12,
     "metadata": {},
     "output_type": "execute_result"
    }
   ],
   "source": [
    "import numpy as np\n",
    "\n",
    "itemPopularity = (URM_all>0).sum(axis=0)\n",
    "itemPopularity"
   ]
  },
  {
   "cell_type": "code",
   "execution_count": 13,
   "metadata": {
    "execution": {
     "iopub.execute_input": "2020-11-19T21:51:51.367145Z",
     "iopub.status.busy": "2020-11-19T21:51:51.366138Z",
     "iopub.status.idle": "2020-11-19T21:51:51.369869Z",
     "shell.execute_reply": "2020-11-19T21:51:51.370305Z"
    },
    "papermill": {
     "duration": 0.041532,
     "end_time": "2020-11-19T21:51:51.370446",
     "exception": false,
     "start_time": "2020-11-19T21:51:51.328914",
     "status": "completed"
    },
    "tags": []
   },
   "outputs": [
    {
     "data": {
      "text/plain": [
       "array([2, 3, 5, ..., 1, 1, 2], dtype=int32)"
      ]
     },
     "execution_count": 13,
     "metadata": {},
     "output_type": "execute_result"
    }
   ],
   "source": [
    "itemPopularity = np.array(itemPopularity).squeeze()\n",
    "itemPopularity"
   ]
  },
  {
   "cell_type": "code",
   "execution_count": 14,
   "metadata": {
    "execution": {
     "iopub.execute_input": "2020-11-19T21:51:51.439400Z",
     "iopub.status.busy": "2020-11-19T21:51:51.438745Z",
     "iopub.status.idle": "2020-11-19T21:51:51.443951Z",
     "shell.execute_reply": "2020-11-19T21:51:51.444406Z"
    },
    "papermill": {
     "duration": 0.041821,
     "end_time": "2020-11-19T21:51:51.444577",
     "exception": false,
     "start_time": "2020-11-19T21:51:51.402756",
     "status": "completed"
    },
    "tags": []
   },
   "outputs": [
    {
     "data": {
      "text/plain": [
       "array([  0,   0,   0, ..., 219, 234, 393], dtype=int32)"
      ]
     },
     "execution_count": 14,
     "metadata": {},
     "output_type": "execute_result"
    }
   ],
   "source": [
    "itemPopularity = np.sort(itemPopularity)\n",
    "itemPopularity"
   ]
  },
  {
   "cell_type": "code",
   "execution_count": 15,
   "metadata": {
    "execution": {
     "iopub.execute_input": "2020-11-19T21:51:51.514870Z",
     "iopub.status.busy": "2020-11-19T21:51:51.514219Z",
     "iopub.status.idle": "2020-11-19T21:51:51.744724Z",
     "shell.execute_reply": "2020-11-19T21:51:51.743602Z"
    },
    "papermill": {
     "duration": 0.267609,
     "end_time": "2020-11-19T21:51:51.744861",
     "exception": false,
     "start_time": "2020-11-19T21:51:51.477252",
     "status": "completed"
    },
    "tags": []
   },
   "outputs": [
    {
     "data": {
      "image/png": "[encoded data removed]",
      "text/plain": [
       "<Figure size 432x288 with 1 Axes>"
      ]
     },
     "metadata": {
      "needs_background": "light"
     },
     "output_type": "display_data"
    }
   ],
   "source": [
    "\n",
    "import matplotlib.pyplot as pyplot\n",
    "\n",
    "pyplot.plot(itemPopularity, 'ro')\n",
    "pyplot.ylabel('Num Interactions ')\n",
    "pyplot.xlabel('Item Index')\n",
    "pyplot.show()"
   ]
  },
  {
   "cell_type": "code",
   "execution_count": 16,
   "metadata": {
    "execution": {
     "iopub.execute_input": "2020-11-19T21:51:51.826787Z",
     "iopub.status.busy": "2020-11-19T21:51:51.825838Z",
     "iopub.status.idle": "2020-11-19T21:51:51.833453Z",
     "shell.execute_reply": "2020-11-19T21:51:51.832703Z"
    },
    "papermill": {
     "duration": 0.048392,
     "end_time": "2020-11-19T21:51:51.833646",
     "exception": false,
     "start_time": "2020-11-19T21:51:51.785254",
     "status": "completed"
    },
    "tags": []
   },
   "outputs": [
    {
     "name": "stdout",
     "output_type": "stream",
     "text": [
      "2489\n",
      "Average per-item interactions over the whole dataset 4.36\n",
      "Average per-item interactions for the top 10% popular items 19.32\n",
      "Average per-item interactions for the least 10% popular items 0.57\n",
      "Average per-item interactions for the median 10% popular items 2.17\n",
      "Average per-item interactions for the 10 most popular items 185.60\n"
     ]
    }
   ],
   "source": [
    "tenPercent = int(numItems/10)\n",
    "print(tenPercent)\n",
    "print(\"Average per-item interactions over the whole dataset {:.2f}\".\n",
    "      format(itemPopularity.mean()))\n",
    "\n",
    "print(\"Average per-item interactions for the top 10% popular items {:.2f}\".\n",
    "      format(itemPopularity[-tenPercent:].mean()))\n",
    "\n",
    "print(\"Average per-item interactions for the least 10% popular items {:.2f}\".\n",
    "      format(itemPopularity[:tenPercent].mean()))\n",
    "\n",
    "print(\"Average per-item interactions for the median 10% popular items {:.2f}\".\n",
    "      format(itemPopularity[int(numItems*0.45):int(numItems*0.55)].mean()))\n",
    "print(\"Average per-item interactions for the 10 most popular items {:.2f}\".\n",
    "      format(itemPopularity[-10:].mean()))\n"
   ]
  },
  {
   "cell_type": "code",
   "execution_count": 17,
   "metadata": {
    "execution": {
     "iopub.execute_input": "2020-11-19T21:51:51.905232Z",
     "iopub.status.busy": "2020-11-19T21:51:51.904359Z",
     "iopub.status.idle": "2020-11-19T21:51:51.907767Z",
     "shell.execute_reply": "2020-11-19T21:51:51.908213Z"
    },
    "papermill": {
     "duration": 0.041889,
     "end_time": "2020-11-19T21:51:51.908394",
     "exception": false,
     "start_time": "2020-11-19T21:51:51.866505",
     "status": "completed"
    },
    "tags": []
   },
   "outputs": [
    {
     "name": "stdout",
     "output_type": "stream",
     "text": [
      "[115 120 126 145 157 162 185 219 234 393]\n"
     ]
    }
   ],
   "source": [
    "print(itemPopularity[-10:])\n"
   ]
  },
  {
   "cell_type": "code",
   "execution_count": 18,
   "metadata": {
    "execution": {
     "iopub.execute_input": "2020-11-19T21:51:51.980700Z",
     "iopub.status.busy": "2020-11-19T21:51:51.979685Z",
     "iopub.status.idle": "2020-11-19T21:51:51.983599Z",
     "shell.execute_reply": "2020-11-19T21:51:51.982893Z"
    },
    "papermill": {
     "duration": 0.04196,
     "end_time": "2020-11-19T21:51:51.983721",
     "exception": false,
     "start_time": "2020-11-19T21:51:51.941761",
     "status": "completed"
    },
    "tags": []
   },
   "outputs": [
    {
     "name": "stdout",
     "output_type": "stream",
     "text": [
      "Number of items with zero interactions 1079\n"
     ]
    }
   ],
   "source": [
    "print(\"Number of items with zero interactions {}\".\n",
    "      format(np.sum(itemPopularity==0)))"
   ]
  },
  {
   "cell_type": "code",
   "execution_count": 19,
   "metadata": {
    "execution": {
     "iopub.execute_input": "2020-11-19T21:51:52.058412Z",
     "iopub.status.busy": "2020-11-19T21:51:52.057796Z",
     "iopub.status.idle": "2020-11-19T21:51:52.063460Z",
     "shell.execute_reply": "2020-11-19T21:51:52.062616Z"
    },
    "papermill": {
     "duration": 0.045939,
     "end_time": "2020-11-19T21:51:52.063604",
     "exception": false,
     "start_time": "2020-11-19T21:51:52.017665",
     "status": "completed"
    },
    "tags": []
   },
   "outputs": [
    {
     "name": "stdout",
     "output_type": "stream",
     "text": [
      "Average per-item interactions over the whole dataset 4.55\n",
      "Average per-item interactions for the top 10% popular items 19.32\n",
      "Average per-item interactions for the least 10% popular items 1.00\n",
      "Average per-item interactions for the median 10% popular items 2.60\n"
     ]
    }
   ],
   "source": [
    "itemPopularityNonzero = itemPopularity[itemPopularity>0]           \n",
    "\n",
    "tenPercent = int(len(itemPopularityNonzero)/10)\n",
    "\n",
    "print(\"Average per-item interactions over the whole dataset {:.2f}\".\n",
    "      format(itemPopularityNonzero.mean()))\n",
    "\n",
    "print(\"Average per-item interactions for the top 10% popular items {:.2f}\".\n",
    "      format(itemPopularityNonzero[-tenPercent:].mean()))\n",
    "\n",
    "print(\"Average per-item interactions for the least 10% popular items {:.2f}\".\n",
    "      format(itemPopularityNonzero[:tenPercent].mean()))\n",
    "\n",
    "print(\"Average per-item interactions for the median 10% popular items {:.2f}\".\n",
    "      format(itemPopularityNonzero[int(numItems*0.45):int(numItems*0.55)].mean()))"
   ]
  },
  {
   "cell_type": "code",
   "execution_count": 20,
   "metadata": {
    "execution": {
     "iopub.execute_input": "2020-11-19T21:51:52.214604Z",
     "iopub.status.busy": "2020-11-19T21:51:52.137733Z",
     "iopub.status.idle": "2020-11-19T21:51:52.400202Z",
     "shell.execute_reply": "2020-11-19T21:51:52.399091Z"
    },
    "papermill": {
     "duration": 0.301643,
     "end_time": "2020-11-19T21:51:52.400393",
     "exception": false,
     "start_time": "2020-11-19T21:51:52.098750",
     "status": "completed"
    },
    "tags": []
   },
   "outputs": [
    {
     "data": {
      "image/png": "[encoded data removed]",
      "text/plain": [
       "<Figure size 432x288 with 1 Axes>"
      ]
     },
     "metadata": {
      "needs_background": "light"
     },
     "output_type": "display_data"
    }
   ],
   "source": [
    "\n",
    "pyplot.plot(itemPopularityNonzero, 'ro')\n",
    "pyplot.ylabel('Num Interactions ')\n",
    "pyplot.xlabel('Item Index')\n",
    "pyplot.show()"
   ]
  },
  {
   "cell_type": "code",
   "execution_count": 21,
   "metadata": {
    "execution": {
     "iopub.execute_input": "2020-11-19T21:51:52.494063Z",
     "iopub.status.busy": "2020-11-19T21:51:52.492901Z",
     "iopub.status.idle": "2020-11-19T21:51:52.667718Z",
     "shell.execute_reply": "2020-11-19T21:51:52.667171Z"
    },
    "papermill": {
     "duration": 0.224818,
     "end_time": "2020-11-19T21:51:52.667834",
     "exception": false,
     "start_time": "2020-11-19T21:51:52.443016",
     "status": "completed"
    },
    "tags": []
   },
   "outputs": [
    {
     "data": {
      "image/png": "[encoded data removed]",
      "text/plain": [
       "<Figure size 432x288 with 1 Axes>"
      ]
     },
     "metadata": {
      "needs_background": "light"
     },
     "output_type": "display_data"
    }
   ],
   "source": [
    "\n",
    "userActivity = (URM_all>0).sum(axis=1)\n",
    "userActivity = np.array(userActivity).squeeze()\n",
    "userActivity = np.sort(userActivity)\n",
    "\n",
    "\n",
    "pyplot.plot(userActivity, 'ro')\n",
    "pyplot.ylabel('Num Interactions ')\n",
    "pyplot.xlabel('User Index')\n",
    "pyplot.show()"
   ]
  },
  {
   "cell_type": "markdown",
   "metadata": {
    "papermill": {
     "duration": 0.035075,
     "end_time": "2020-11-19T21:51:52.738254",
     "exception": false,
     "start_time": "2020-11-19T21:51:52.703179",
     "status": "completed"
    },
    "tags": []
   },
   "source": [
    "Now that we have the data, we can build our first recommender. We need two things:\n",
    "a 'fit' function to train our model\n",
    "a 'recommend' function that uses our model to recommend\n",
    "Let's start with a random recommender\n",
    "In a random recommend we don't have anything to learn from the data"
   ]
  },
  {
   "cell_type": "code",
   "execution_count": 21,
   "metadata": {
    "execution": {
     "iopub.execute_input": "2020-11-19T21:51:52.823793Z",
     "iopub.status.busy": "2020-11-19T21:51:52.822743Z",
     "iopub.status.idle": "2020-11-19T21:51:52.826094Z",
     "shell.execute_reply": "2020-11-19T21:51:52.825457Z"
    },
    "papermill": {
     "duration": 0.05287,
     "end_time": "2020-11-19T21:51:52.826207",
     "exception": false,
     "start_time": "2020-11-19T21:51:52.773337",
     "status": "completed"
    },
    "tags": []
   },
   "outputs": [],
   "source": [
    "class RandomRecommender(object):\n",
    "\n",
    "    def fit(self, URM_train):\n",
    "           \n",
    "        self.numItems = URM_train.shape[1]    #wtf?\n",
    "    \n",
    "    \n",
    "    def recommend(self, user_id, at=5):\n",
    "    \n",
    "        recommended_items = np.random.choice(self.numItems, at)\n",
    "\n",
    "        return recommended_items"
   ]
  },
  {
   "cell_type": "code",
   "execution_count": 22,
   "metadata": {
    "execution": {
     "iopub.execute_input": "2020-11-19T21:51:52.903730Z",
     "iopub.status.busy": "2020-11-19T21:51:52.902626Z",
     "iopub.status.idle": "2020-11-19T21:51:52.912488Z",
     "shell.execute_reply": "2020-11-19T21:51:52.911938Z"
    },
    "papermill": {
     "duration": 0.050911,
     "end_time": "2020-11-19T21:51:52.912618",
     "exception": false,
     "start_time": "2020-11-19T21:51:52.861707",
     "status": "completed"
    },
    "tags": []
   },
   "outputs": [
    {
     "data": {
      "text/plain": [
       "array([ True, False,  True, ...,  True,  True, False])"
      ]
     },
     "execution_count": 22,
     "metadata": {},
     "output_type": "execute_result"
    }
   ],
   "source": [
    "train_test_split = 0.85\n",
    "\n",
    "numInteractions = URM_all.nnz\n",
    "\n",
    "\n",
    "train_mask = np.random.choice([True,False], numInteractions, p=[train_test_split, 1-train_test_split])\n",
    "train_mask"
   ]
  },
  {
   "cell_type": "code",
   "execution_count": 23,
   "metadata": {
    "execution": {
     "iopub.execute_input": "2020-11-19T21:51:52.992263Z",
     "iopub.status.busy": "2020-11-19T21:51:52.991554Z",
     "iopub.status.idle": "2020-11-19T21:51:53.003213Z",
     "shell.execute_reply": "2020-11-19T21:51:53.002658Z"
    },
    "papermill": {
     "duration": 0.053944,
     "end_time": "2020-11-19T21:51:53.003326",
     "exception": false,
     "start_time": "2020-11-19T21:51:52.949382",
     "status": "completed"
    },
    "tags": []
   },
   "outputs": [
    {
     "data": {
      "text/plain": [
       "<7947x25975 sparse matrix of type '<class 'numpy.longlong'>'\n",
       "\twith 96183 stored elements in Compressed Sparse Row format>"
      ]
     },
     "execution_count": 23,
     "metadata": {},
     "output_type": "execute_result"
    }
   ],
   "source": [
    "userList = np.array(userList)\n",
    "itemList = np.array(itemList)\n",
    "ratingList = np.array(ratingList)\n",
    "\n",
    "\n",
    "URM_train = sps.coo_matrix((ratingList[train_mask], (userList[train_mask], itemList[train_mask])))   #changed variable specification\n",
    "URM_train = URM_train.tocsr()\n",
    "URM_train"
   ]
  },
  {
   "cell_type": "code",
   "execution_count": 24,
   "metadata": {
    "execution": {
     "iopub.execute_input": "2020-11-19T21:51:53.080785Z",
     "iopub.status.busy": "2020-11-19T21:51:53.080111Z",
     "iopub.status.idle": "2020-11-19T21:51:53.088370Z",
     "shell.execute_reply": "2020-11-19T21:51:53.087813Z"
    },
    "papermill": {
     "duration": 0.048966,
     "end_time": "2020-11-19T21:51:53.088533",
     "exception": false,
     "start_time": "2020-11-19T21:51:53.039567",
     "status": "completed"
    },
    "tags": []
   },
   "outputs": [
    {
     "data": {
      "text/plain": [
       "<7947x25975 sparse matrix of type '<class 'numpy.longlong'>'\n",
       "\twith 17085 stored elements in Compressed Sparse Row format>"
      ]
     },
     "execution_count": 24,
     "metadata": {},
     "output_type": "execute_result"
    }
   ],
   "source": [
    "test_mask = np.logical_not(train_mask)\n",
    "\n",
    "URM_test = sps.coo_matrix((ratingList[test_mask], (userList[test_mask], itemList[test_mask])))\n",
    "URM_test = URM_test.tocsr()\n",
    "URM_test"
   ]
  },
  {
   "cell_type": "markdown",
   "metadata": {
    "papermill": {
     "duration": 0.037147,
     "end_time": "2020-11-19T21:51:53.162700",
     "exception": false,
     "start_time": "2020-11-19T21:51:53.125553",
     "status": "completed"
    },
    "tags": []
   },
   "source": [
    "**Evaluation metric¶\n",
    "**"
   ]
  },
  {
   "cell_type": "code",
   "execution_count": 25,
   "metadata": {
    "execution": {
     "iopub.execute_input": "2020-11-19T21:51:53.240571Z",
     "iopub.status.busy": "2020-11-19T21:51:53.239550Z",
     "iopub.status.idle": "2020-11-19T21:51:53.243930Z",
     "shell.execute_reply": "2020-11-19T21:51:53.243379Z"
    },
    "papermill": {
     "duration": 0.045334,
     "end_time": "2020-11-19T21:51:53.244082",
     "exception": false,
     "start_time": "2020-11-19T21:51:53.198748",
     "status": "completed"
    },
    "tags": []
   },
   "outputs": [
    {
     "data": {
      "text/plain": [
       "1"
      ]
     },
     "execution_count": 25,
     "metadata": {},
     "output_type": "execute_result"
    }
   ],
   "source": [
    "user_id = userList_unique[1]\n",
    "user_id"
   ]
  },
  {
   "cell_type": "code",
   "execution_count": 26,
   "metadata": {
    "execution": {
     "iopub.execute_input": "2020-11-19T21:51:53.325219Z",
     "iopub.status.busy": "2020-11-19T21:51:53.324442Z",
     "iopub.status.idle": "2020-11-19T21:51:53.328156Z",
     "shell.execute_reply": "2020-11-19T21:51:53.327560Z"
    },
    "papermill": {
     "duration": 0.047215,
     "end_time": "2020-11-19T21:51:53.328264",
     "exception": false,
     "start_time": "2020-11-19T21:51:53.281049",
     "status": "completed"
    },
    "tags": []
   },
   "outputs": [
    {
     "data": {
      "text/plain": [
       "array([18253,  2032,  4481, 15920,  3553, 18082,  4340, 14689, 13862,\n",
       "       17699])"
      ]
     },
     "execution_count": 26,
     "metadata": {},
     "output_type": "execute_result"
    }
   ],
   "source": [
    "randomRecommender = RandomRecommender()\n",
    "randomRecommender.fit(URM_train)\n",
    "\n",
    "recommended_items = randomRecommender.recommend(user_id, at=10)\n",
    "recommended_items"
   ]
  },
  {
   "cell_type": "markdown",
   "metadata": {
    "papermill": {
     "duration": 0.036499,
     "end_time": "2020-11-19T21:51:53.402611",
     "exception": false,
     "start_time": "2020-11-19T21:51:53.366112",
     "status": "completed"
    },
    "tags": []
   },
   "source": [
    "We call items in the test set 'relevant'¶\n"
   ]
  },
  {
   "cell_type": "code",
   "execution_count": 27,
   "metadata": {
    "execution": {
     "iopub.execute_input": "2020-11-19T21:51:53.482581Z",
     "iopub.status.busy": "2020-11-19T21:51:53.481877Z",
     "iopub.status.idle": "2020-11-19T21:51:53.488802Z",
     "shell.execute_reply": "2020-11-19T21:51:53.488127Z"
    },
    "papermill": {
     "duration": 0.049299,
     "end_time": "2020-11-19T21:51:53.488917",
     "exception": false,
     "start_time": "2020-11-19T21:51:53.439618",
     "status": "completed"
    },
    "tags": []
   },
   "outputs": [
    {
     "data": {
      "text/plain": [
       "array([20146], dtype=int32)"
      ]
     },
     "execution_count": 27,
     "metadata": {},
     "output_type": "execute_result"
    }
   ],
   "source": [
    "relevant_items = URM_test[user_id].indices\n",
    "relevant_items"
   ]
  },
  {
   "cell_type": "code",
   "execution_count": 28,
   "metadata": {
    "execution": {
     "iopub.execute_input": "2020-11-19T21:51:53.570845Z",
     "iopub.status.busy": "2020-11-19T21:51:53.569940Z",
     "iopub.status.idle": "2020-11-19T21:51:53.574795Z",
     "shell.execute_reply": "2020-11-19T21:51:53.574125Z"
    },
    "papermill": {
     "duration": 0.04782,
     "end_time": "2020-11-19T21:51:53.574918",
     "exception": false,
     "start_time": "2020-11-19T21:51:53.527098",
     "status": "completed"
    },
    "tags": []
   },
   "outputs": [
    {
     "data": {
      "text/plain": [
       "array([False, False, False, False, False, False, False, False, False,\n",
       "       False])"
      ]
     },
     "execution_count": 28,
     "metadata": {},
     "output_type": "execute_result"
    }
   ],
   "source": [
    "is_relevant = np.in1d(recommended_items, relevant_items, assume_unique=True)\n",
    "is_relevant"
   ]
  },
  {
   "cell_type": "markdown",
   "metadata": {
    "papermill": {
     "duration": 0.03723,
     "end_time": "2020-11-19T21:51:53.652346",
     "exception": false,
     "start_time": "2020-11-19T21:51:53.615116",
     "status": "completed"
    },
    "tags": []
   },
   "source": [
    "**Precision: how many of the recommended items are relevant¶**\n"
   ]
  },
  {
   "cell_type": "code",
   "execution_count": 29,
   "metadata": {
    "execution": {
     "iopub.execute_input": "2020-11-19T21:51:53.734223Z",
     "iopub.status.busy": "2020-11-19T21:51:53.733493Z",
     "iopub.status.idle": "2020-11-19T21:51:53.736174Z",
     "shell.execute_reply": "2020-11-19T21:51:53.736632Z"
    },
    "papermill": {
     "duration": 0.047069,
     "end_time": "2020-11-19T21:51:53.736796",
     "exception": false,
     "start_time": "2020-11-19T21:51:53.689727",
     "status": "completed"
    },
    "tags": []
   },
   "outputs": [],
   "source": [
    "def precision(recommended_items, relevant_items):\n",
    "    \n",
    "    is_relevant = np.in1d(recommended_items, relevant_items, assume_unique=True)\n",
    "    \n",
    "    precision_score = np.sum(is_relevant, dtype=np.float32) / len(is_relevant)\n",
    "    \n",
    "    return precision_score"
   ]
  },
  {
   "cell_type": "code",
   "execution_count": 30,
   "metadata": {
    "execution": {
     "iopub.execute_input": "2020-11-19T21:51:53.820200Z",
     "iopub.status.busy": "2020-11-19T21:51:53.819038Z",
     "iopub.status.idle": "2020-11-19T21:51:53.823504Z",
     "shell.execute_reply": "2020-11-19T21:51:53.822939Z"
    },
    "papermill": {
     "duration": 0.049441,
     "end_time": "2020-11-19T21:51:53.823661",
     "exception": false,
     "start_time": "2020-11-19T21:51:53.774220",
     "status": "completed"
    },
    "tags": []
   },
   "outputs": [],
   "source": [
    "def MAP(recommended_items, relevant_items):\n",
    "   \n",
    "    is_relevant = np.in1d(recommended_items, relevant_items, assume_unique=True)\n",
    "    \n",
    "    # Cumulative sum: precision at 1, at 2, at 3 ...\n",
    "    p_at_k = is_relevant * np.cumsum(is_relevant, dtype=np.float32) / (1 + np.arange(is_relevant.shape[0]))\n",
    "    \n",
    "    map_score = np.sum(p_at_k) / np.min([relevant_items.shape[0], is_relevant.shape[0]])\n",
    "\n",
    "    return map_score"
   ]
  },
  {
   "cell_type": "code",
   "execution_count": 31,
   "metadata": {
    "execution": {
     "iopub.execute_input": "2020-11-19T21:51:53.914380Z",
     "iopub.status.busy": "2020-11-19T21:51:53.913658Z",
     "iopub.status.idle": "2020-11-19T21:51:53.917021Z",
     "shell.execute_reply": "2020-11-19T21:51:53.916373Z"
    },
    "papermill": {
     "duration": 0.048936,
     "end_time": "2020-11-19T21:51:53.917135",
     "exception": false,
     "start_time": "2020-11-19T21:51:53.868199",
     "status": "completed"
    },
    "tags": []
   },
   "outputs": [],
   "source": [
    "def evaluate_algorithm(URM_test, recommender_object, at=5):\n",
    "    \n",
    "    cumulative_precision = 0.0\n",
    "    cumulative_recall = 0.0\n",
    "    cumulative_MAP = 0.0\n",
    "    \n",
    "    num_eval = 0\n",
    "\n",
    "\n",
    "    for user_id in userList_unique:\n",
    "\n",
    "        relevant_items = URM_test[user_id].indices\n",
    "        \n",
    "        if len(relevant_items)>0:\n",
    "            \n",
    "            recommended_items = recommender_object.recommend(user_id, at=at)\n",
    "            num_eval+=1\n",
    "\n",
    "            cumulative_precision += precision(recommended_items, relevant_items)\n",
    "            cumulative_MAP += MAP(recommended_items, relevant_items)\n",
    "\n",
    "\n",
    "    cumulative_precision /= num_eval\n",
    "    cumulative_MAP /= num_eval\n",
    "    \n",
    "    print(\"Recommender performance is: Precision = {:.4f}, MAP = {:.4f}\".format(\n",
    "        cumulative_precision, cumulative_MAP))"
   ]
  },
  {
   "cell_type": "code",
   "execution_count": null,
   "metadata": {
    "papermill": {
     "duration": 0.040581,
     "end_time": "2020-11-19T21:52:08.640158",
     "exception": false,
     "start_time": "2020-11-19T21:52:08.599577",
     "status": "completed"
    },
    "tags": []
   },
   "outputs": [],
   "source": []
  },
  {
   "cell_type": "code",
   "execution_count": 22,
   "metadata": {},
   "outputs": [],
   "source": [
    "import matplotlib.pyplot as pyplot\n",
    "%matplotlib inline  "
   ]
  },
  {
   "cell_type": "markdown",
   "metadata": {},
   "source": [
    "Let's use the DataReader provided with the course repo"
   ]
  },
  {
   "cell_type": "code",
   "execution_count": 23,
   "metadata": {},
   "outputs": [],
   "source": [
    "from Data_manager.Movielens.Movielens10MReader import Movielens10MReader\n",
    "from Base.Evaluation.Evaluator import EvaluatorHoldout\n",
    "from Data_manager.split_functions.split_train_validation_random_holdout import split_train_in_two_percentage_global_sample"
   ]
  },
  {
   "cell_type": "code",
   "execution_count": 24,
   "metadata": {},
   "outputs": [
    {
     "name": "stdout",
     "output_type": "stream",
     "text": [
      "Warning: 67 (0.84 %) of 7947 users have no train items\n",
      "Warning: 2331 (29.33 %) of 7947 users have no sampled items\n",
      "Warning: 234 (2.94 %) of 7947 users have no train items\n",
      "Warning: 2799 (35.22 %) of 7947 users have no sampled items\n"
     ]
    }
   ],
   "source": [
    "#dataReader = Movielens10MReader()\n",
    "#dataset = dataReader.load_data()\n",
    "\n",
    "#URM_all = dataset.get_URM_all()\n",
    "\n",
    "URM_train, URM_test = split_train_in_two_percentage_global_sample(URM_all, train_percentage = 0.80)\n",
    "URM_train, URM_validation = split_train_in_two_percentage_global_sample(URM_train, train_percentage = 0.80)\n",
    "\n",
    "evaluator_validation = EvaluatorHoldout(URM_validation, cutoff_list=[10])\n",
    "evaluator_test = EvaluatorHoldout(URM_test, cutoff_list=[10])"
   ]
  },
  {
   "cell_type": "code",
   "execution_count": null,
   "metadata": {},
   "outputs": [],
   "source": []
  },
  {
   "cell_type": "markdown",
   "metadata": {},
   "source": [
    "# Item-based Collaborative Filtering"
   ]
  },
  {
   "cell_type": "code",
   "execution_count": 88,
   "metadata": {},
   "outputs": [],
   "source": [
    "from Base.Similarity.Compute_Similarity_Python import Compute_Similarity_Python\n",
    "import numpy as np\n",
    "\n",
    "class ItemKNNCFRecommender(object):\n",
    "    \n",
    "    def __init__(self, URM):\n",
    "        self.URM = URM\n",
    "        \n",
    "            \n",
    "    def fit(self, topK=10, shrink=10, normalize=True, similarity=\"cosine\"):\n",
    "        \n",
    "        similarity_object = Compute_Similarity_Python(self.URM, shrink=shrink, \n",
    "                                                  topK=topK, normalize=normalize, \n",
    "                                                  similarity = similarity)\n",
    "        \n",
    "        self.W_sparse = similarity_object.compute_similarity()\n",
    "\n",
    "        \n",
    "    def recommend(self, user_id, at=None, exclude_seen=True):\n",
    "        # compute the scores using the dot product\n",
    "        user_profile = self.URM[user_id]\n",
    "        scores = user_profile.dot(self.W_sparse).toarray().ravel()\n",
    "\n",
    "        if exclude_seen:\n",
    "            scores = self.filter_seen(user_id, scores)\n",
    "\n",
    "        # rank items\n",
    "        ranking = scores.argsort()[::-1]\n",
    "            \n",
    "        return ranking[:at]\n",
    "    \n",
    "    \n",
    "    def filter_seen(self, user_id, scores):\n",
    "\n",
    "        start_pos = self.URM.indptr[user_id]\n",
    "        end_pos = self.URM.indptr[user_id+1]\n",
    "\n",
    "        user_profile = self.URM.indices[start_pos:end_pos]\n",
    "        \n",
    "        scores[user_profile] = -np.inf\n",
    "\n",
    "        return scores"
   ]
  },
  {
   "cell_type": "code",
   "execution_count": null,
   "metadata": {},
   "outputs": [],
   "source": []
  },
  {
   "cell_type": "markdown",
   "metadata": {},
   "source": [
    "## Test our CF recommender:"
   ]
  },
  {
   "cell_type": "code",
   "execution_count": 90,
   "metadata": {},
   "outputs": [
    {
     "name": "stdout",
     "output_type": "stream",
     "text": [
      "Similarity column 25975 ( 100 % ), 2297.32 column/sec, elapsed time 0.19 min\n"
     ]
    }
   ],
   "source": [
    "recommender = ItemKNNCFRecommender(URM_train)\n",
    "recommender.fit(shrink=10, topK=10)"
   ]
  },
  {
   "cell_type": "code",
   "execution_count": 50,
   "metadata": {},
   "outputs": [
    {
     "name": "stdout",
     "output_type": "stream",
     "text": [
      "ItemKNNCFRecommender: URM Detected 234 (2.94 %) cold users.\n",
      "ItemKNNCFRecommender: URM Detected 4057 (15.62 %) cold items.\n",
      "Unable to load Cython Compute_Similarity, reverting to Python\n",
      "Similarity column 25975 ( 100 % ), 2581.60 column/sec, elapsed time 0.17 min\n",
      "EvaluatorHoldout: Processed 5616 ( 100.00% ) in 3.94 sec. Users per second: 1427\n"
     ]
    }
   ],
   "source": [
    "recommender = ItemKNNCFRecommender(URM_train)\n",
    "recommender.fit(shrink=10, topK=10)\n",
    "result_dict, _ = evaluator_test.evaluateRecommender(recommender)\n",
    "MAP_per_k.append(result_dict[10][\"MAP\"]) # 0.02884342539676257 = map , cosine, c = 10, k = 10 "
   ]
  },
  {
   "cell_type": "code",
   "execution_count": 111,
   "metadata": {},
   "outputs": [],
   "source": [
    "import numpy as np"
   ]
  },
  {
   "cell_type": "code",
   "execution_count": 146,
   "metadata": {},
   "outputs": [
    {
     "name": "stderr",
     "output_type": "stream",
     "text": [
      "C:\\ProgramData\\Anaconda3\\lib\\site-packages\\ipykernel_launcher.py:4: SettingWithCopyWarning: \n",
      "A value is trying to be set on a copy of a slice from a DataFrame\n",
      "\n",
      "See the caveats in the documentation: https://pandas.pydata.org/pandas-docs/stable/user_guide/indexing.html#returning-a-view-versus-a-copy\n",
      "  after removing the cwd from sys.path.\n"
     ]
    }
   ],
   "source": [
    "l = np.array(R_test).shape[0]\n",
    "for r in range(l):\n",
    "    output = recommender.recommend(R_test.iloc[r][0], at=10)\n",
    "    R_test['item_list'][r] = np.array_str(output)[1:-1]"
   ]
  },
  {
   "cell_type": "code",
   "execution_count": 147,
   "metadata": {},
   "outputs": [
    {
     "data": {
      "text/html": [
       "<div>\n",
       "<style scoped>\n",
       "    .dataframe tbody tr th:only-of-type {\n",
       "        vertical-align: middle;\n",
       "    }\n",
       "\n",
       "    .dataframe tbody tr th {\n",
       "        vertical-align: top;\n",
       "    }\n",
       "\n",
       "    .dataframe thead th {\n",
       "        text-align: right;\n",
       "    }\n",
       "</style>\n",
       "<table border=\"1\" class=\"dataframe\">\n",
       "  <thead>\n",
       "    <tr style=\"text-align: right;\">\n",
       "      <th></th>\n",
       "      <th>user_id</th>\n",
       "      <th>item_list</th>\n",
       "    </tr>\n",
       "  </thead>\n",
       "  <tbody>\n",
       "    <tr>\n",
       "      <th>0</th>\n",
       "      <td>0</td>\n",
       "      <td>11310   445  8661  8651  8652  8653  8654  865...</td>\n",
       "    </tr>\n",
       "    <tr>\n",
       "      <th>1</th>\n",
       "      <td>1</td>\n",
       "      <td>23600 12409 23244 20173 20095 16118 21442 1631...</td>\n",
       "    </tr>\n",
       "    <tr>\n",
       "      <th>2</th>\n",
       "      <td>2</td>\n",
       "      <td>3164 14031  9549 14792   575 11548 17336 2597...</td>\n",
       "    </tr>\n",
       "    <tr>\n",
       "      <th>3</th>\n",
       "      <td>3</td>\n",
       "      <td>12473 13689  2074  2442    88  6649  9528  774...</td>\n",
       "    </tr>\n",
       "    <tr>\n",
       "      <th>4</th>\n",
       "      <td>4</td>\n",
       "      <td>1611 14012  9312  9007  1447  3318 21537 1106...</td>\n",
       "    </tr>\n",
       "    <tr>\n",
       "      <th>...</th>\n",
       "      <td>...</td>\n",
       "      <td>...</td>\n",
       "    </tr>\n",
       "    <tr>\n",
       "      <th>7939</th>\n",
       "      <td>7942</td>\n",
       "      <td>25755 16139   478 16848  3462  5298 10528  237...</td>\n",
       "    </tr>\n",
       "    <tr>\n",
       "      <th>7940</th>\n",
       "      <td>7943</td>\n",
       "      <td>14137 20368 19874  3525  9008 25241  4911 1841...</td>\n",
       "    </tr>\n",
       "    <tr>\n",
       "      <th>7941</th>\n",
       "      <td>7944</td>\n",
       "      <td>10959 10689 25400 12594  5412  8304  3068  497...</td>\n",
       "    </tr>\n",
       "    <tr>\n",
       "      <th>7942</th>\n",
       "      <td>7945</td>\n",
       "      <td>8341  1610  5343 21590  7313  8937 23806 1475...</td>\n",
       "    </tr>\n",
       "    <tr>\n",
       "      <th>7943</th>\n",
       "      <td>7946</td>\n",
       "      <td>4374 11086 17279 23374  8650  8652  8653  865...</td>\n",
       "    </tr>\n",
       "  </tbody>\n",
       "</table>\n",
       "<p>7944 rows × 2 columns</p>\n",
       "</div>"
      ],
      "text/plain": [
       "      user_id                                          item_list\n",
       "0           0  11310   445  8661  8651  8652  8653  8654  865...\n",
       "1           1  23600 12409 23244 20173 20095 16118 21442 1631...\n",
       "2           2   3164 14031  9549 14792   575 11548 17336 2597...\n",
       "3           3  12473 13689  2074  2442    88  6649  9528  774...\n",
       "4           4   1611 14012  9312  9007  1447  3318 21537 1106...\n",
       "...       ...                                                ...\n",
       "7939     7942  25755 16139   478 16848  3462  5298 10528  237...\n",
       "7940     7943  14137 20368 19874  3525  9008 25241  4911 1841...\n",
       "7941     7944  10959 10689 25400 12594  5412  8304  3068  497...\n",
       "7942     7945   8341  1610  5343 21590  7313  8937 23806 1475...\n",
       "7943     7946   4374 11086 17279 23374  8650  8652  8653  865...\n",
       "\n",
       "[7944 rows x 2 columns]"
      ]
     },
     "execution_count": 147,
     "metadata": {},
     "output_type": "execute_result"
    }
   ],
   "source": [
    "R_test"
   ]
  },
  {
   "cell_type": "code",
   "execution_count": 118,
   "metadata": {},
   "outputs": [],
   "source": [
    "lst= recommender.recommend(R_test.iloc[1][0], at=10)"
   ]
  },
  {
   "cell_type": "code",
   "execution_count": 121,
   "metadata": {},
   "outputs": [
    {
     "data": {
      "text/plain": [
       "'23600 12409 23244 20173 20095 16118 21442 16318  8431 14047'"
      ]
     },
     "execution_count": 121,
     "metadata": {},
     "output_type": "execute_result"
    }
   ],
   "source": [
    "np.array_str(lst)[1:-1]"
   ]
  },
  {
   "cell_type": "code",
   "execution_count": null,
   "metadata": {},
   "outputs": [],
   "source": [
    "lst.ar"
   ]
  },
  {
   "cell_type": "code",
   "execution_count": 106,
   "metadata": {},
   "outputs": [
    {
     "data": {
      "text/plain": [
       "7944"
      ]
     },
     "execution_count": 106,
     "metadata": {},
     "output_type": "execute_result"
    }
   ],
   "source": [
    "np.array(R_test).shape[0]"
   ]
  },
  {
   "cell_type": "code",
   "execution_count": 92,
   "metadata": {},
   "outputs": [
    {
     "data": {
      "text/plain": [
       "array([ 8097,  7494,  7013, ..., 20127,  9658,   814], dtype=int64)"
      ]
     },
     "execution_count": 92,
     "metadata": {},
     "output_type": "execute_result"
    }
   ],
   "source": [
    "res=[]\n"
   ]
  },
  {
   "cell_type": "code",
   "execution_count": 84,
   "metadata": {},
   "outputs": [
    {
     "data": {
      "text/plain": [
       "[17316, 17317, 17313, 17314, 17315, 17311, 17320, 17319, 17309, 17318]"
      ]
     },
     "execution_count": 84,
     "metadata": {},
     "output_type": "execute_result"
    }
   ],
   "source": [
    "recommender.recommend(5,10)"
   ]
  },
  {
   "cell_type": "markdown",
   "metadata": {},
   "source": [
    "## Remember to keep the URM in CSR format!"
   ]
  },
  {
   "cell_type": "markdown",
   "metadata": {},
   "source": [
    "## Parameter tuning\n",
    "\n",
    "#### Once we have built our model we can play with its parameters\n",
    "* Number of neighbors\n",
    "* Shrinkage\n",
    "* Similarity type"
   ]
  },
  {
   "cell_type": "markdown",
   "metadata": {},
   "source": [
    "#### Number of neighbors"
   ]
  },
  {
   "cell_type": "code",
   "execution_count": 45,
   "metadata": {},
   "outputs": [
    {
     "name": "stdout",
     "output_type": "stream",
     "text": [
      "ItemKNNCFRecommender: URM Detected 234 (2.94 %) cold users.\n",
      "ItemKNNCFRecommender: URM Detected 4057 (15.62 %) cold items.\n",
      "Unable to load Cython Compute_Similarity, reverting to Python\n",
      "Similarity column 25975 ( 100 % ), 2499.86 column/sec, elapsed time 0.17 min\n",
      "EvaluatorHoldout: Processed 5616 ( 100.00% ) in 3.78 sec. Users per second: 1486\n",
      "ItemKNNCFRecommender: URM Detected 234 (2.94 %) cold users.\n",
      "ItemKNNCFRecommender: URM Detected 4057 (15.62 %) cold items.\n",
      "Unable to load Cython Compute_Similarity, reverting to Python\n",
      "Similarity column 25975 ( 100 % ), 2627.30 column/sec, elapsed time 0.16 min\n",
      "EvaluatorHoldout: Processed 5616 ( 100.00% ) in 3.94 sec. Users per second: 1425\n",
      "ItemKNNCFRecommender: URM Detected 234 (2.94 %) cold users.\n",
      "ItemKNNCFRecommender: URM Detected 4057 (15.62 %) cold items.\n",
      "Unable to load Cython Compute_Similarity, reverting to Python\n",
      "Similarity column 25975 ( 100 % ), 2596.31 column/sec, elapsed time 0.17 min\n",
      "EvaluatorHoldout: Processed 5616 ( 100.00% ) in 3.93 sec. Users per second: 1430\n",
      "ItemKNNCFRecommender: URM Detected 234 (2.94 %) cold users.\n",
      "ItemKNNCFRecommender: URM Detected 4057 (15.62 %) cold items.\n",
      "Unable to load Cython Compute_Similarity, reverting to Python\n",
      "Similarity column 25975 ( 100 % ), 2488.84 column/sec, elapsed time 0.17 min\n",
      "EvaluatorHoldout: Processed 5616 ( 100.00% ) in 3.95 sec. Users per second: 1420\n",
      "ItemKNNCFRecommender: URM Detected 234 (2.94 %) cold users.\n",
      "ItemKNNCFRecommender: URM Detected 4057 (15.62 %) cold items.\n",
      "Unable to load Cython Compute_Similarity, reverting to Python\n",
      "Similarity column 25975 ( 100 % ), 2488.84 column/sec, elapsed time 0.17 min\n",
      "EvaluatorHoldout: Processed 5616 ( 100.00% ) in 4.10 sec. Users per second: 1371\n",
      "ItemKNNCFRecommender: URM Detected 234 (2.94 %) cold users.\n",
      "ItemKNNCFRecommender: URM Detected 4057 (15.62 %) cold items.\n",
      "Unable to load Cython Compute_Similarity, reverting to Python\n",
      "Similarity column 25975 ( 100 % ), 2352.89 column/sec, elapsed time 0.18 min\n",
      "EvaluatorHoldout: Processed 5616 ( 100.00% ) in 4.13 sec. Users per second: 1360\n",
      "ItemKNNCFRecommender: URM Detected 234 (2.94 %) cold users.\n",
      "ItemKNNCFRecommender: URM Detected 4057 (15.62 %) cold items.\n",
      "Unable to load Cython Compute_Similarity, reverting to Python\n",
      "Similarity column 25975 ( 100 % ), 2297.32 column/sec, elapsed time 0.19 min\n",
      "EvaluatorHoldout: Processed 5616 ( 100.00% ) in 4.58 sec. Users per second: 1226\n"
     ]
    }
   ],
   "source": [
    "from KNN.ItemKNNCFRecommender import ItemKNNCFRecommender\n",
    "\n",
    "x_tick = [2,5,10, 50, 100, 200, 500]\n",
    "MAP_per_k = []\n",
    "\n",
    "for topK in x_tick:\n",
    "    \n",
    "    recommender = ItemKNNCFRecommender(URM_train)\n",
    "    recommender.fit(shrink=0.0, topK=topK)\n",
    "    \n",
    "    result_dict, _ = evaluator_test.evaluateRecommender(recommender)\n",
    "    \n",
    "    MAP_per_k.append(result_dict[10][\"MAP\"])"
   ]
  },
  {
   "cell_type": "code",
   "execution_count": 46,
   "metadata": {},
   "outputs": [
    {
     "data": {
      "image/png": "[encoded data removed]",
      "text/plain": [
       "<Figure size 432x288 with 1 Axes>"
      ]
     },
     "metadata": {
      "needs_background": "light"
     },
     "output_type": "display_data"
    }
   ],
   "source": [
    "pyplot.plot(x_tick, MAP_per_k)\n",
    "pyplot.ylabel('MAP')\n",
    "pyplot.xlabel('TopK')\n",
    "pyplot.show()"
   ]
  },
  {
   "cell_type": "code",
   "execution_count": 35,
   "metadata": {},
   "outputs": [],
   "source": [
    "#Best K=10"
   ]
  },
  {
   "cell_type": "code",
   "execution_count": null,
   "metadata": {},
   "outputs": [],
   "source": []
  },
  {
   "cell_type": "markdown",
   "metadata": {},
   "source": [
    "#### On this dataset the number of neighbors has a great impact on MAP.\n",
    "\n",
    "#### Different datasets will behave in different ways."
   ]
  },
  {
   "cell_type": "markdown",
   "metadata": {},
   "source": [
    "### Shrinkage"
   ]
  },
  {
   "cell_type": "code",
   "execution_count": 47,
   "metadata": {},
   "outputs": [
    {
     "name": "stdout",
     "output_type": "stream",
     "text": [
      "ItemKNNCFRecommender: URM Detected 234 (2.94 %) cold users.\n",
      "ItemKNNCFRecommender: URM Detected 4057 (15.62 %) cold items.\n",
      "Unable to load Cython Compute_Similarity, reverting to Python\n",
      "Similarity column 25975 ( 100 % ), 2515.59 column/sec, elapsed time 0.17 min\n",
      "EvaluatorHoldout: Processed 5616 ( 100.00% ) in 3.90 sec. Users per second: 1438\n",
      "ItemKNNCFRecommender: URM Detected 234 (2.94 %) cold users.\n",
      "ItemKNNCFRecommender: URM Detected 4057 (15.62 %) cold items.\n",
      "Unable to load Cython Compute_Similarity, reverting to Python\n",
      "Similarity column 25975 ( 100 % ), 2542.93 column/sec, elapsed time 0.17 min\n",
      "EvaluatorHoldout: Processed 5616 ( 100.00% ) in 3.90 sec. Users per second: 1440\n",
      "ItemKNNCFRecommender: URM Detected 234 (2.94 %) cold users.\n",
      "ItemKNNCFRecommender: URM Detected 4057 (15.62 %) cold items.\n",
      "Unable to load Cython Compute_Similarity, reverting to Python\n",
      "Similarity column 25975 ( 100 % ), 2555.19 column/sec, elapsed time 0.17 min\n",
      "EvaluatorHoldout: Processed 5616 ( 100.00% ) in 3.82 sec. Users per second: 1469\n",
      "ItemKNNCFRecommender: URM Detected 234 (2.94 %) cold users.\n",
      "ItemKNNCFRecommender: URM Detected 4057 (15.62 %) cold items.\n",
      "Unable to load Cython Compute_Similarity, reverting to Python\n",
      "Similarity column 25975 ( 100 % ), 2578.27 column/sec, elapsed time 0.17 min\n",
      "EvaluatorHoldout: Processed 5616 ( 100.00% ) in 4.09 sec. Users per second: 1373\n",
      "ItemKNNCFRecommender: URM Detected 234 (2.94 %) cold users.\n",
      "ItemKNNCFRecommender: URM Detected 4057 (15.62 %) cold items.\n",
      "Unable to load Cython Compute_Similarity, reverting to Python\n",
      "Similarity column 25975 ( 100 % ), 2529.81 column/sec, elapsed time 0.17 min\n",
      "EvaluatorHoldout: Processed 5616 ( 100.00% ) in 3.93 sec. Users per second: 1431\n",
      "ItemKNNCFRecommender: URM Detected 234 (2.94 %) cold users.\n",
      "ItemKNNCFRecommender: URM Detected 4057 (15.62 %) cold items.\n",
      "Unable to load Cython Compute_Similarity, reverting to Python\n",
      "Similarity column 25975 ( 100 % ), 2438.14 column/sec, elapsed time 0.18 min\n",
      "EvaluatorHoldout: Processed 5616 ( 100.00% ) in 4.02 sec. Users per second: 1397\n"
     ]
    }
   ],
   "source": [
    "x_tick = [0, 10, 50, 100, 200, 500]\n",
    "MAP_per_shrinkage = []\n",
    "\n",
    "for shrink in x_tick:\n",
    "    \n",
    "    recommender = ItemKNNCFRecommender(URM_train)\n",
    "    recommender.fit(shrink=shrink, topK=10)\n",
    "    \n",
    "    result_dict, _ = evaluator_test.evaluateRecommender(recommender)\n",
    "    \n",
    "    MAP_per_shrinkage.append(result_dict[10][\"MAP\"])"
   ]
  },
  {
   "cell_type": "code",
   "execution_count": 48,
   "metadata": {
    "scrolled": true
   },
   "outputs": [
    {
     "data": {
      "image/png": "[encoded data removed]",
      "text/plain": [
       "<Figure size 432x288 with 1 Axes>"
      ]
     },
     "metadata": {
      "needs_background": "light"
     },
     "output_type": "display_data"
    }
   ],
   "source": [
    "pyplot.plot(x_tick, MAP_per_shrinkage)\n",
    "pyplot.ylabel('MAP')\n",
    "pyplot.xlabel('Shrinkage')\n",
    "pyplot.show()#10"
   ]
  },
  {
   "cell_type": "markdown",
   "metadata": {},
   "source": [
    "### Comparing different similarity heuristics\n",
    "\n",
    "#### Let's see how different are the similarities "
   ]
  }
 ],
 "metadata": {
  "kernelspec": {
   "display_name": "Python 3",
   "language": "python",
   "name": "python3"
  },
  "language_info": {
   "codemirror_mode": {
    "name": "ipython",
    "version": 3
   },
   "file_extension": ".py",
   "mimetype": "text/x-python",
   "name": "python",
   "nbconvert_exporter": "python",
   "pygments_lexer": "ipython3",
   "version": "3.7.0"
  },
  "papermill": {
   "duration": 23.293083,
   "end_time": "2020-11-19T21:52:08.788695",
   "environment_variables": {},
   "exception": null,
   "input_path": "__notebook__.ipynb",
   "output_path": "__notebook__.ipynb",
   "parameters": {},
   "start_time": "2020-11-19T21:51:45.495612",
   "version": "2.1.0"
  }
 },
 "nbformat": 4,
 "nbformat_minor": 4
}
